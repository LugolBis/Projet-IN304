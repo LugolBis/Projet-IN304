{
 "cells": [
  {
   "cell_type": "markdown",
   "metadata": {},
   "source": [
    "# Conditions d'utilisation \n",
    "Pour que **InPoDa** fonctionne correctement vérifiez que les conditions suivantes doivent être réunies :\n",
    "- Installation des modules : ```Pandas```, ```Textblob```, ```Spacy```, ```Translate```, ```Languedetect```, (```Gradio```?)\n",
    "- Le fichier ***\"aitweets.json\"*** doit être dans le même dossier que **InPoDa**"
   ]
  },
  {
   "cell_type": "markdown",
   "metadata": {},
   "source": [
    "# Supression des caractères spéciaux"
   ]
  },
  {
   "cell_type": "code",
   "execution_count": 171,
   "metadata": {},
   "outputs": [],
   "source": [
    "# Etat : Fonctionne parfaitement \n",
    "\n",
    "def SuprCaracterSpe(Chaine):  # Prend en entrée une chaine de caractères \n",
    "    ChaineNettoyee = ''\n",
    "    indice = 0\n",
    "    while indice < len(Chaine):\n",
    "        if (Chaine[indice] == 'R') and (indice < len(Chaine)-2) and (Chaine[indice] + Chaine[indice+1] == 'RT'): # On suprime les \"RT\"\n",
    "            indice += 3\n",
    "            while (indice < len(Chaine)-1) and Chaine[indice] != ' ':\n",
    "                indice+=1\n",
    "            ChaineNettoyee += ' '\n",
    "            indice += 1\n",
    "        elif (Chaine[indice].isalnum() == True):\n",
    "            ChaineNettoyee += Chaine[indice]\n",
    "            indice += 1\n",
    "        elif (Chaine[indice] == \"\\ \"[:-1]) and (indice < len(Chaine)-2) and (Chaine[indice] + Chaine[indice+1] == '\\n'): # On suprime les sauts de ligne\n",
    "            ChaineNettoyee += ' '\n",
    "            indice += 1\n",
    "        elif (Chaine[indice] == '@') and (indice < len(Chaine)-2):  # On suprime les pseudonymes (donc les arobases) \n",
    "            indice += 1\n",
    "            while (indice < len(Chaine)-1) and Chaine[indice] != ' ':\n",
    "                indice += 1\n",
    "            ChaineNettoyee += ' '\n",
    "            indice += 1\n",
    "        else:\n",
    "            ChaineNettoyee += ' '\n",
    "            indice += 1\n",
    "    return ChaineNettoyee     # Renvoie la chaine de cractères sans les caractères spéciaux"
   ]
  },
  {
   "cell_type": "markdown",
   "metadata": {},
   "source": [
    "# Création de la classe ***Tweet***"
   ]
  },
  {
   "cell_type": "code",
   "execution_count": 172,
   "metadata": {},
   "outputs": [
    {
     "data": {
      "text/plain": [
       "dict"
      ]
     },
     "execution_count": 172,
     "metadata": {},
     "output_type": "execute_result"
    }
   ],
   "source": [
    "class Tweet:\n",
    "    \n",
    "    def __init__(self, chaine='TweetParDéfaut') :\n",
    "        # 'chaine' doit être un 'str'\n",
    "        self.chaine = chaine # Reconversion du Tweet en 'str'\n",
    "\n",
    "        def Hashtags(chaine): # Entrée : Chaîne de caractères\n",
    "            ListeH = []\n",
    "            SousChaine = chaine.split()\n",
    "            for elem in SousChaine:\n",
    "                if elem.startswith('#') and len(elem)>1:\n",
    "                    elem2 = ''\n",
    "                    indice = 1\n",
    "                    while indice < len(elem):\n",
    "                        if (elem[indice] == '_') or (elem[indice].isalnum() == True):\n",
    "                            elem2 += elem[indice]\n",
    "                            indice += 1\n",
    "                        else:\n",
    "                            indice = len(elem)\n",
    "                    ListeH.append(elem[0]+elem2)\n",
    "            return ListeH   # Renvoie une liste contenant les # du Tweet\n",
    "        \n",
    "        self.Hashtags = Hashtags(chaine)\n",
    "\n",
    "        def Arobases(chaine): # Prend en entrée un str\n",
    "            ListeA = []\n",
    "            SousChaine = chaine.split()\n",
    "            for elem in SousChaine:\n",
    "                if elem.startswith('@') and len(elem)>1:\n",
    "                    elem2 = ''\n",
    "                    indice = 1\n",
    "                    while indice < len(elem):\n",
    "                        if (elem[indice] == '_') or (elem[indice].isalnum() == True):\n",
    "                            elem2 += elem[indice]\n",
    "                            indice += 1\n",
    "                        else:\n",
    "                            indice = len(elem)\n",
    "                    ListeA.append(elem[0]+elem2)\n",
    "            return ListeA   # Renvoie une liste contenant les @ du Tweet \n",
    "\n",
    "        self.Arobases = Arobases(chaine)\n",
    "\n",
    "        def Sentiment(Tweet): # Prend en entrée une chaîne de caractères\n",
    "            from textblob import TextBlob\n",
    "            blob = TextBlob(Tweet)\n",
    "            polarite = blob.sentiment.polarity\n",
    "            if polarite > 0:\n",
    "                return 'Positif'\n",
    "            elif polarite < 0:\n",
    "                return 'Negatif'\n",
    "            else:\n",
    "                return 'Neutre' # Sortie : Chaîne de caractère ('str')\n",
    "            \n",
    "        self.Sentiment = Sentiment(chaine)\n",
    "    \n",
    "    def __repr__(self):\n",
    "        return self.chaine\n",
    "        \n",
    "\n",
    "chaine = \"Bon @jour Je suis la\"\n",
    "Tweet1 = Tweet(chaine)\n",
    "type({})"
   ]
  },
  {
   "cell_type": "markdown",
   "metadata": {},
   "source": [
    "# Création de la classe ***Inpoda***"
   ]
  },
  {
   "cell_type": "code",
   "execution_count": 173,
   "metadata": {},
   "outputs": [],
   "source": [
    "from pandas import DataFrame\n",
    "\n",
    "class Inpoda:\n",
    "    def __init__(self, Dico=None, DF=None):\n",
    "        if DF is None:\n",
    "            DF = DataFrame([{\"DataFrameParDéfaut\": True}])\n",
    "        elif Dico is None:\n",
    "            Dico = {\"DicoParDéfaut\": True}\n",
    "        self.Dico = Dico\n",
    "        assert type(self.Dico) == type({})\n",
    "        self.DF = DF\n",
    "        assert type(self.DF) == type(DataFrame())\n",
    "\n",
    "\n",
    "    def TopKH(self, K=5, DicoH=None):# Entrée : {K : 'int' (si K>0 on aura un tri décroissant, si K<0 on aura un tri croissant)\n",
    "                                            #    DicoH : 'dict' (Dictionnaire contenant tous les Hashtags de la base de données et leur nombre)}\n",
    "        from pandas import DataFrame\n",
    "        if DicoH is None:\n",
    "            DicoH = self.Dico\n",
    "        DFKH = DataFrame(DicoH.items(), columns=['#', 'Nombre de Tweets'])\n",
    "        if K > 0:\n",
    "            DFKH = DFKH.sort_values(by='Nombre de Tweets', ascending=False) # On tri le Dataframe selon les valeurs de la deuxième colonne 'RetweetCount' et on precise 'ascending=False' pour l'ordre décroissant\n",
    "        else:\n",
    "            DFKH = DFKH.sort_values(by='Nombre de Tweets', ascending=True) # Inversement on tri le DataFrame par ordre Décroissant\n",
    "        return DFKH.head(abs(K))# On passe la valeur absolue de K dans la méthode .head() pour s'assurer qu'elle affiche correctement le Top demandé\n",
    "                # Sortie : 'DataFrame' (de deux colonnes contenant les Utilisateurs mentionnés et le Nombre de fois qu'ils ont été mentionné)\n",
    "\n",
    "\n",
    "    def TopKU(self, K=5, DFP=None):   # Entrée : {K : 'int' (si K>0 on aura un tri décroissant, si K<0 on aura un tri croissant)\n",
    "                                     #          DFP : 'DataFrame' (Le DataFrame principal)}\n",
    "        from pandas import concat\n",
    "        if DFP is None:\n",
    "            DFP = self.DF\n",
    "        Taille = DFP[\"RetweetCount\"].shape\n",
    "        for i in range(Taille[0]):\n",
    "            valeur = int(DFP[\"RetweetCount\"].loc[i])  # On converti les 'str' de la colonne \"RetweetCount\" en entier pour correctement les trier\n",
    "            DFP[\"RetweetCount\"].loc[i] = valeur       \n",
    "        DFKU = concat([DFP[\"Utilisateurs\"], DFP[\"RetweetCount\"]], axis=1)\n",
    "        if K > 0:\n",
    "            DFKU = DFKU.sort_values(by=\"RetweetCount\", ascending=False) # On tri le Dataframe selon les valeurs de la deuxième colonne 'RetweetCount' et on precise 'ascending=False' pour l'ordre décroissant\n",
    "        else:\n",
    "            DFKU = DFKU.sort_values(by=\"RetweetCount\", ascending=True) # Inversement on tri le DataFrame par ordre Décroissant\n",
    "        return DFKU.head(abs(K))  # On passe la valeur absolue de K dans la méthode .head() pour s'assurer qu'elle affiche correctement le Top demandé\n",
    "         # Sortie : 'DataFrame' (de deux colonnes contenant les Utilisateurs et le Nombre de fois qu'ils ont tweeté) \n",
    "\n",
    "\n",
    "    def TopKA(self, K=5, DicoA=None):  # Entrée : {K :'int' (si K>0 on aura un tri décroissant, si K<0 on aura un tri croissant)\n",
    "                        #          DicoA : 'dict' (Dictionnaire contenant tous les Arobases de la base de données et leur nombre)}\n",
    "        from pandas import DataFrame\n",
    "        if DicoA is None:\n",
    "            DicoA = self.Dico\n",
    "        DFKA = DataFrame(DicoA.items(), columns=['@', 'Nombre de Mentions'])\n",
    "        if K > 0:\n",
    "            DFKA = DFKA.sort_values(by='Nombre de Mentions', ascending=False) # On tri le Dataframe selon les valeurs de la deuxième colonne 'Nombre' et on precise 'ascending=False' pour l'ordre décroissant\n",
    "        else:\n",
    "            DFKA = DFKA.sort_values(by='Nombre de Mentions', ascending=True) # Inversement on tri le DataFrame par ordre Décroissant  \n",
    "        return DFKA.head(abs(K))  # On passe la valeur absolue de K dans la méthode .head() pour s'assurer qu'elle affiche correctement le Top demandé\n",
    "            # Sortie : 'DataFrame' (de deux colonnes contenant les Utilisateurs et le Nombre de fois qu'ils ont été mentionnés) \n",
    "\n",
    "    def NbPostUtilisateur(self, Utilisateur=\"Lugol\", DFP=None) : # Entrée : {Utilisateur : 'str' (Le Nom de l'utilisateur)\n",
    "                                                                  #          DFP : 'DataFrame' (DataFrame principal)}\n",
    "        if DFP is None:\n",
    "            DFP = self.DF\n",
    "        Taille = DFP.shape\n",
    "        for i in range(Taille[0]):\n",
    "            if DFP[\"Utilisateurs\"].loc[i] == Utilisateur:\n",
    "                return (Utilisateur, DFP[\"RetweetCount\"].loc[i])  \n",
    "        return (Utilisateur, 0)   \n",
    "            # Sortie : 'tuple' (Utilisateur, nombre de Publications)\n",
    "\n",
    "\n",
    "    def NbPostHashtags(self, hashtag='#ParDéfaut', DicoH=None): # Entrée : { hashtag : 'str' (Le Hashtag recherché)\n",
    "                                                                #            DicoH : 'dict' (Le dictionnaire des Hastags)}\n",
    "        if DicoH is None:\n",
    "            DicoH = self.Dico\n",
    "        if hashtag in DicoH:\n",
    "            return (hashtag, DicoH[hashtag])\n",
    "        else:\n",
    "            return (hashtag, 0) # Sortie : 'tuple' (#, nombre de publications dans lequel il est mentionné)\n",
    "    \n",
    "\n",
    "    def TweetsUtilisateur(self, Utilisateur=\"Lugol\", DFP=None): # Entrée : { Utilisateur : 'str' (Nom de l'Utilisateur)\n",
    "                                                                #            DFP : 'DataFrame' (DataFrame principal) }\n",
    "        from pandas import DataFrame\n",
    "        if DFP is None:\n",
    "            DFP = self.DF\n",
    "        if Utilisateur[0] != \"@\":\n",
    "            Utilisateur = \"@\" + Utilisateur\n",
    "        ExpressionR = 'RT ' + Utilisateur\n",
    "        ListeTweets = []\n",
    "        Taille = DFP[\"TweetText\"].shape\n",
    "        for indice in range(Taille[0]):\n",
    "            tweet = DFP[\"TweetText\"].loc[indice]\n",
    "            tweet = tweet.chaine\n",
    "            if (ExpressionR in tweet) and (tweet[len(ExpressionR)+2:] not in ListeTweets):\n",
    "                ListeTweets.append(tweet[len(ExpressionR)+2:])\n",
    "            elif (DFP[\"Utilisateurs\"].loc[indice] == Utilisateur):\n",
    "                ListeTweets.append(tweet)\n",
    "        if ListeTweets == []:\n",
    "            return DataFrame([{\"Tweets postés par : \" + Utilisateur:\"Erreur : Aucun Tweet posté\"}])\n",
    "        else:\n",
    "            return DataFrame({\"Tweets postés par : \" + Utilisateur:ListeTweets}) \n",
    "                # Sortie : 'DataFrame' contenant les à chaque ligne un tweet de l'utilisateur (Tweet brut) \n",
    "                #          (attention l'index des Tweets de DFTU ne correspondent pas à leur index dans DFP)\n",
    "\n",
    "\n",
    "    def TweetsMentionUtilisateur(self, Utilisateur = \"Lugol\", DFP = None): # Entrée : { Utilisateur : 'str' (Nom d'Utilisateur)\n",
    "                                                                           #            DFP : 'DataFrame' (DataFrame principal)\n",
    "        from pandas import DataFrame\n",
    "        if DFP is None:\n",
    "            DFP = self.DF\n",
    "        Taille = DFP.shape\n",
    "        ListeIndiceTweets = []\n",
    "        for i in range(Taille[0]):\n",
    "            ListeA = DFP[\"@\"].loc[i]\n",
    "            if Utilisateur in ListeA:\n",
    "                ListeIndiceTweets.append(i)\n",
    "        DFTMU = DataFrame(DFP[\"TweetText\"].iloc[ListeIndiceTweets])\n",
    "        DFTMU = DFTMU.rename(columns={\"TweetText\":\"Tweets mentionnant : \" + Utilisateur})  # On renomme la colonne pour plus de clarté \n",
    "        return DFTMU     # Sortie : 'DataFrame' contenant à chaque ligne les Tweets mentionnant l'Utilisateur, \n",
    "                                # l'index de chaque ligne correpond à celui du Tweet brut stocké dans DFP \n",
    "\n",
    "\n",
    "    def UtilisateurMentionHashtag(self, Hashtag = \"#ParDéfaut\", DFP = None): # Entrée : { Hastag : 'str' (Hashtag)\n",
    "                                             #            DFP : 'DataFrame' (DataFrame principal) }\n",
    "        from pandas import DataFrame\n",
    "        if DFP is None:\n",
    "            DFP = self.DF\n",
    "        Taille = DFP.shape\n",
    "        ListeIndiceTweets = []\n",
    "        for i in range(Taille[0]):\n",
    "            ListeH = DFP[\"#\"].loc[i]\n",
    "            if Hashtag in ListeH:\n",
    "                ListeIndiceTweets.append(i)\n",
    "        if ListeIndiceTweets == []:\n",
    "            return DataFrame([{\"Utilisateurs\":\"Erreur : Votre Hashtag n'existe pas\"}])\n",
    "        else:\n",
    "            return DataFrame(DFP[\"Utilisateurs\"].iloc[ListeIndiceTweets]) \n",
    "              # Sortie : 'DataFrame' contenant à chaque ligne un Utilisateur qui à mentionner le Hashtag dans son tweet, \n",
    "              #          l'index correspond à celui de l'Utilisateur dans DFP\n",
    "\n",
    "\n",
    "    def UtilisateurMentionUtilsateur(self, Utilisateur = \"Lugol\", DFP = None):  # Entrée : { Utilisateur : 'str' (Nom d'Utilisateur)\n",
    "                                                     #            DFP : 'DataFrame' (DataFrame principal)\n",
    "        from pandas import DataFrame\n",
    "        if DFP is None:\n",
    "            DFP = self.DF\n",
    "        Taille = DFP.shape\n",
    "        for i in range(Taille[0]):\n",
    "            if DFP[\"Utilisateurs\"].loc[i] == Utilisateur:\n",
    "                return DataFrame({Utilisateur + \" a mentionné :\":DFP[\"@\"].loc[i]})   \n",
    "        return DataFrame([{\"Utilisateurs\":\"Erreur : Votre Utilisateur n'existe pas\"}]) \n",
    "            # Sortie : 'DataFrame'\n",
    "\n",
    "\n",
    "    def __repr__(self):\n",
    "        if (self.Dico != {\"DicoParDéfaut\": True}) and (self.Dico != {}):\n",
    "            return repr(self.Dico)\n",
    "        else:\n",
    "            return repr(self.DF)\n"
   ]
  },
  {
   "cell_type": "markdown",
   "metadata": {},
   "source": [
    "# Récupération des Tweets du fichier Json → Json (Zone d'aterrissage)"
   ]
  },
  {
   "cell_type": "code",
   "execution_count": 174,
   "metadata": {},
   "outputs": [],
   "source": [
    "# Etat : Fonctionne parfaitement\n",
    "\n",
    "def ZoneAterrisage(NomFichier):\n",
    "    from json import loads\n",
    "    with open(NomFichier, 'r') as fs, open(\"Zone d’atterrissage.json\", 'w') as fd:\n",
    "        for ligne in fs:\n",
    "            dicoL = loads(ligne)\n",
    "            tweet = dicoL[\"TweetText\"]\n",
    "            tweetN = SuprCaracterSpe(tweet)  # Suprime tous les caractères spéciaux, les RT et les pseudonymes\n",
    "            fd.write(f'{tweetN}\\n')     # On écrit le Tweet nettoyé dans \"Zone d’atterrissage.json\"\n",
    "\n",
    "fichier = \"aitweets.json\"\n",
    "ZoneAterrisage(fichier)"
   ]
  },
  {
   "cell_type": "markdown",
   "metadata": {},
   "source": [
    "# Récupération des Données du fichier Json → DataFrame ('DFP')"
   ]
  },
  {
   "cell_type": "code",
   "execution_count": 175,
   "metadata": {},
   "outputs": [
    {
     "data": {
      "text/html": [
       "<div>\n",
       "<style scoped>\n",
       "    .dataframe tbody tr th:only-of-type {\n",
       "        vertical-align: middle;\n",
       "    }\n",
       "\n",
       "    .dataframe tbody tr th {\n",
       "        vertical-align: top;\n",
       "    }\n",
       "\n",
       "    .dataframe thead th {\n",
       "        text-align: right;\n",
       "    }\n",
       "</style>\n",
       "<table border=\"1\" class=\"dataframe\">\n",
       "  <thead>\n",
       "    <tr style=\"text-align: right;\">\n",
       "      <th></th>\n",
       "      <th>id</th>\n",
       "      <th>AuthorLocation</th>\n",
       "      <th>CreatedAt</th>\n",
       "      <th>RetweetCount</th>\n",
       "      <th>TweetLanguage</th>\n",
       "      <th>TweetText</th>\n",
       "      <th>@</th>\n",
       "      <th>#</th>\n",
       "      <th>Sentiment</th>\n",
       "    </tr>\n",
       "  </thead>\n",
       "  <tbody>\n",
       "    <tr>\n",
       "      <th>0</th>\n",
       "      <td>1415291904850153474</td>\n",
       "      <td></td>\n",
       "      <td>2021-07-14T12:47:39Z</td>\n",
       "      <td>0</td>\n",
       "      <td>en</td>\n",
       "      <td>@____bruvteresa_ According to research, NASA c...</td>\n",
       "      <td>[@____bruvteresa_]</td>\n",
       "      <td>[]</td>\n",
       "      <td>Positif</td>\n",
       "    </tr>\n",
       "    <tr>\n",
       "      <th>1</th>\n",
       "      <td>1415291947560828933</td>\n",
       "      <td>Mysore  and  BERLIN</td>\n",
       "      <td>2021-07-14T12:47:49Z</td>\n",
       "      <td>2</td>\n",
       "      <td>en</td>\n",
       "      <td>RT @HDataSystems: Artificial Intelligence and ...</td>\n",
       "      <td>[@HDataSystems]</td>\n",
       "      <td>[#hdatasystems, #Artificia]</td>\n",
       "      <td>Negatif</td>\n",
       "    </tr>\n",
       "    <tr>\n",
       "      <th>2</th>\n",
       "      <td>1415291877897605120</td>\n",
       "      <td></td>\n",
       "      <td>2021-07-14T12:47:33Z</td>\n",
       "      <td>246</td>\n",
       "      <td>en</td>\n",
       "      <td>RT @adgpi: Army Technology Board conducted the...</td>\n",
       "      <td>[@adgpi]</td>\n",
       "      <td>[]</td>\n",
       "      <td>Negatif</td>\n",
       "    </tr>\n",
       "    <tr>\n",
       "      <th>3</th>\n",
       "      <td>1415291886860967940</td>\n",
       "      <td></td>\n",
       "      <td>2021-07-14T12:47:35Z</td>\n",
       "      <td>1</td>\n",
       "      <td>en</td>\n",
       "      <td>RT @pacorjo: According to a recent survey, the...</td>\n",
       "      <td>[@pacorjo]</td>\n",
       "      <td>[]</td>\n",
       "      <td>Positif</td>\n",
       "    </tr>\n",
       "    <tr>\n",
       "      <th>4</th>\n",
       "      <td>1415291968700264450</td>\n",
       "      <td>Internet</td>\n",
       "      <td>2021-07-14T12:47:54Z</td>\n",
       "      <td>20</td>\n",
       "      <td>en</td>\n",
       "      <td>RT @HarbRimah: Making AI Sing https://t.co/FJo...</td>\n",
       "      <td>[@HarbRimah]</td>\n",
       "      <td>[#MachineLearning, #DataScience, #Python, #AI,...</td>\n",
       "      <td>Neutre</td>\n",
       "    </tr>\n",
       "    <tr>\n",
       "      <th>...</th>\n",
       "      <td>...</td>\n",
       "      <td>...</td>\n",
       "      <td>...</td>\n",
       "      <td>...</td>\n",
       "      <td>...</td>\n",
       "      <td>...</td>\n",
       "      <td>...</td>\n",
       "      <td>...</td>\n",
       "      <td>...</td>\n",
       "    </tr>\n",
       "    <tr>\n",
       "      <th>1703</th>\n",
       "      <td>1421408743770791938</td>\n",
       "      <td>Liverpool, England</td>\n",
       "      <td>2021-07-31T09:53:47Z</td>\n",
       "      <td>1</td>\n",
       "      <td>en</td>\n",
       "      <td>RT @innomaticshyd: Top 10 Real world Artificia...</td>\n",
       "      <td>[@innomaticshyd]</td>\n",
       "      <td>[]</td>\n",
       "      <td>Positif</td>\n",
       "    </tr>\n",
       "    <tr>\n",
       "      <th>1704</th>\n",
       "      <td>1421424066305605634</td>\n",
       "      <td></td>\n",
       "      <td>2021-07-31T10:54:40Z</td>\n",
       "      <td>0</td>\n",
       "      <td>en</td>\n",
       "      <td>Iowa State part of U.S. National Science Found...</td>\n",
       "      <td>[]</td>\n",
       "      <td>[#ArtificialIntelligence, #IIoT, #GenerativeAd...</td>\n",
       "      <td>Positif</td>\n",
       "    </tr>\n",
       "    <tr>\n",
       "      <th>1705</th>\n",
       "      <td>1421423882427371521</td>\n",
       "      <td>127.0.0.1</td>\n",
       "      <td>2021-07-31T10:53:57Z</td>\n",
       "      <td>17</td>\n",
       "      <td>en</td>\n",
       "      <td>RT @intellimetri: Human Assisted #ArtificialIn...</td>\n",
       "      <td>[@intellimetri, @nerdgirlz, @forbes, @ForbesBR...</td>\n",
       "      <td>[#ArtificialIntelligence, #AI]</td>\n",
       "      <td>Neutre</td>\n",
       "    </tr>\n",
       "    <tr>\n",
       "      <th>1706</th>\n",
       "      <td>1421423971858149377</td>\n",
       "      <td>Singapore, Singapore</td>\n",
       "      <td>2021-07-31T10:54:18Z</td>\n",
       "      <td>12</td>\n",
       "      <td>en</td>\n",
       "      <td>RT @IainLJBrown: Artificial Intelligence learn...</td>\n",
       "      <td>[@IainLJBrown]</td>\n",
       "      <td>[#Artificia]</td>\n",
       "      <td>Positif</td>\n",
       "    </tr>\n",
       "    <tr>\n",
       "      <th>1707</th>\n",
       "      <td>1421423964845395969</td>\n",
       "      <td>Torremolinos, España</td>\n",
       "      <td>2021-07-31T10:54:16Z</td>\n",
       "      <td>17</td>\n",
       "      <td>en</td>\n",
       "      <td>RT @marcusborba: Artificial Intelligence May F...</td>\n",
       "      <td>[@marcusborba, @TAMU]</td>\n",
       "      <td>[#Healthcare, #A]</td>\n",
       "      <td>Negatif</td>\n",
       "    </tr>\n",
       "  </tbody>\n",
       "</table>\n",
       "<p>1708 rows × 9 columns</p>\n",
       "</div>"
      ],
      "text/plain": [
       "                       id        AuthorLocation             CreatedAt  \\\n",
       "0     1415291904850153474                        2021-07-14T12:47:39Z   \n",
       "1     1415291947560828933   Mysore  and  BERLIN  2021-07-14T12:47:49Z   \n",
       "2     1415291877897605120                        2021-07-14T12:47:33Z   \n",
       "3     1415291886860967940                        2021-07-14T12:47:35Z   \n",
       "4     1415291968700264450              Internet  2021-07-14T12:47:54Z   \n",
       "...                   ...                   ...                   ...   \n",
       "1703  1421408743770791938    Liverpool, England  2021-07-31T09:53:47Z   \n",
       "1704  1421424066305605634                        2021-07-31T10:54:40Z   \n",
       "1705  1421423882427371521             127.0.0.1  2021-07-31T10:53:57Z   \n",
       "1706  1421423971858149377  Singapore, Singapore  2021-07-31T10:54:18Z   \n",
       "1707  1421423964845395969  Torremolinos, España  2021-07-31T10:54:16Z   \n",
       "\n",
       "     RetweetCount TweetLanguage  \\\n",
       "0               0            en   \n",
       "1               2            en   \n",
       "2             246            en   \n",
       "3               1            en   \n",
       "4              20            en   \n",
       "...           ...           ...   \n",
       "1703            1            en   \n",
       "1704            0            en   \n",
       "1705           17            en   \n",
       "1706           12            en   \n",
       "1707           17            en   \n",
       "\n",
       "                                              TweetText  \\\n",
       "0     @____bruvteresa_ According to research, NASA c...   \n",
       "1     RT @HDataSystems: Artificial Intelligence and ...   \n",
       "2     RT @adgpi: Army Technology Board conducted the...   \n",
       "3     RT @pacorjo: According to a recent survey, the...   \n",
       "4     RT @HarbRimah: Making AI Sing https://t.co/FJo...   \n",
       "...                                                 ...   \n",
       "1703  RT @innomaticshyd: Top 10 Real world Artificia...   \n",
       "1704  Iowa State part of U.S. National Science Found...   \n",
       "1705  RT @intellimetri: Human Assisted #ArtificialIn...   \n",
       "1706  RT @IainLJBrown: Artificial Intelligence learn...   \n",
       "1707  RT @marcusborba: Artificial Intelligence May F...   \n",
       "\n",
       "                                                      @  \\\n",
       "0                                    [@____bruvteresa_]   \n",
       "1                                       [@HDataSystems]   \n",
       "2                                              [@adgpi]   \n",
       "3                                            [@pacorjo]   \n",
       "4                                          [@HarbRimah]   \n",
       "...                                                 ...   \n",
       "1703                                   [@innomaticshyd]   \n",
       "1704                                                 []   \n",
       "1705  [@intellimetri, @nerdgirlz, @forbes, @ForbesBR...   \n",
       "1706                                     [@IainLJBrown]   \n",
       "1707                              [@marcusborba, @TAMU]   \n",
       "\n",
       "                                                      # Sentiment  \n",
       "0                                                    []   Positif  \n",
       "1                           [#hdatasystems, #Artificia]   Negatif  \n",
       "2                                                    []   Negatif  \n",
       "3                                                    []   Positif  \n",
       "4     [#MachineLearning, #DataScience, #Python, #AI,...    Neutre  \n",
       "...                                                 ...       ...  \n",
       "1703                                                 []   Positif  \n",
       "1704  [#ArtificialIntelligence, #IIoT, #GenerativeAd...   Positif  \n",
       "1705                     [#ArtificialIntelligence, #AI]    Neutre  \n",
       "1706                                       [#Artificia]   Positif  \n",
       "1707                                  [#Healthcare, #A]   Negatif  \n",
       "\n",
       "[1708 rows x 9 columns]"
      ]
     },
     "execution_count": 175,
     "metadata": {},
     "output_type": "execute_result"
    }
   ],
   "source": [
    "# Etat : Fonctionne parfaitement\n",
    "\n",
    "def RecupDonneesP(NomFichier):  # Prend en entier le nom du fichier à analyser\n",
    "    from pandas import DataFrame\n",
    "    from pandas import concat\n",
    "    from json import loads\n",
    "    with open(NomFichier, 'r') as fs:\n",
    "        ligne = fs.readline()\n",
    "        dicoL = loads(ligne)\n",
    "        tweet = Tweet(dicoL[\"TweetText\"])\n",
    "        dicoL[\"TweetText\"] = tweet\n",
    "        dicoL[\"@\"] = tweet.Arobases\n",
    "        dicoL[\"#\"] = tweet.Hashtags\n",
    "        dicoL[\"Sentiment\"] = tweet.Sentiment\n",
    "        DFF = DataFrame([dicoL])   # On initialise le DatFrame qui va stocker en local les données de la base\n",
    "        for ligne in fs:\n",
    "            dicoL = loads(ligne)\n",
    "            tweet = Tweet(dicoL[\"TweetText\"])\n",
    "            dicoL[\"TweetText\"] = tweet\n",
    "            dicoL[\"@\"] = tweet.Arobases\n",
    "            dicoL[\"#\"] = tweet.Hashtags\n",
    "            dicoL[\"Sentiment\"] = tweet.Sentiment\n",
    "            DF2 = DataFrame([dicoL])\n",
    "            DFF = concat([DFF,DF2])  \n",
    "    DFF.index = list(i for i in range(0,1708))               \n",
    "    return DFF\n",
    "\n",
    "fichier = \"aitweets.json\"\n",
    "DFP = RecupDonneesP(fichier)   # DFP correspond au DataFrame principal, dont les colonnes sont 'id','TweetText', etc\n",
    "DFP"
   ]
  },
  {
   "cell_type": "markdown",
   "metadata": {},
   "source": [
    "# Dictionnaire des Hashtags ('#')"
   ]
  },
  {
   "cell_type": "code",
   "execution_count": 176,
   "metadata": {},
   "outputs": [],
   "source": [
    "def DicoHashtags(DF):   # Entrée : DataFrame (la colonne des tweets)\n",
    "    DicoH = {}\n",
    "    from pandas import DataFrame\n",
    "    Taille = DF.shape  # Tuple contenant (le nombre de ligne, le nombre de colonnes)\n",
    "    for i in range(Taille[0]):\n",
    "        tweet = DF.iloc[i]\n",
    "        ListeHashtags = tweet.Hashtags \n",
    "        for h in ListeHashtags:\n",
    "            if h in DicoH:\n",
    "                nombre = DicoH[h]\n",
    "                nombre +=1\n",
    "                DicoH[h] = nombre\n",
    "            else:\n",
    "                DicoH[h] = 1\n",
    "    del DicoH['#']    # Il y a 33 # incomplets dans la base de données, ils sont pris en compte par la fonction, on prend donc le soin de suprimer cette clé du dico           \n",
    "    return DicoH      # Renvoie un Dictionnaire contenant tous les Hashtags en clé et le nombre de fois qu'ils sont tweeté en valeur\n",
    "\n",
    "DicoH = DicoHashtags(DFP[\"TweetText\"])"
   ]
  },
  {
   "cell_type": "markdown",
   "metadata": {},
   "source": [
    "# Dictionnaire des Arobases @"
   ]
  },
  {
   "cell_type": "code",
   "execution_count": 177,
   "metadata": {},
   "outputs": [],
   "source": [
    "def DicoArobases(DF):   # Entrée : DataFrame (la colonne des tweets)\n",
    "    DicoA = {}\n",
    "    from pandas import DataFrame\n",
    "    Taille = DF.shape  # Tuple contenant (le nombre de ligne, le nombre de colonnes)\n",
    "    for i in range(Taille[0]):\n",
    "        tweet = DF.iloc[i]\n",
    "        ListeArobases = tweet.Arobases\n",
    "        for h in ListeArobases:\n",
    "            if h in DicoA:\n",
    "                nombre = DicoA[h]\n",
    "                nombre +=1\n",
    "                DicoA[h] = nombre\n",
    "            else:\n",
    "                DicoA[h] = 1 \n",
    "    del DicoA['@']               \n",
    "    return DicoA      # Renvoie un Dictionnaire contenant tous les Hashtags en clé et le nombre de fois qu'ils sont tweeté en valeur\n",
    "\n",
    "DicoA = DicoArobases(DFP[\"TweetText\"])"
   ]
  },
  {
   "cell_type": "markdown",
   "metadata": {},
   "source": [
    "# Utilisateurs"
   ]
  },
  {
   "cell_type": "markdown",
   "metadata": {},
   "source": [
    "L'enjeux est ici de compléter notre base de données incomplète. En effet notre base de données comporte pour chaque tweet un champ **ID** mais aucun \"Pseudo\" ou \"Nom d'Utilisateur\".\n",
    "C'est pourquoi nous allons ajouter à notre **DataFrame** principal ce nouveau champ \"Utilisateurs\".\n",
    "\n",
    "La création d'Utilisateurs est essentielle au bon déroulement de certaines opérations d'Analyses, notamment pour 'Les utilisateurs mentionnés par un utilisateur spécifique'. Il est donc impératif que tous les utilisateurs mentionnés dans les tweets soient présent au sein de la base de données, donc dans le champ \"**Utilisateurs**\" du DataFrame **DFP**."
   ]
  },
  {
   "cell_type": "code",
   "execution_count": 178,
   "metadata": {},
   "outputs": [],
   "source": [
    "# Etat : Fonctionne parfaitement\n",
    "\n",
    "def CreationUtilisateurs(ListeD, nb, DFP):  # Entrée : Liste Utilisateurs mentionnés ('dict_keys'), nombre ('int'), DataFrame principal (DFP)\n",
    "    from random import randint\n",
    "    from pandas import DataFrame\n",
    "    from pandas import concat\n",
    "    ListeUtilisateurs = list(ListeD)\n",
    "    ListeUtilisateurs.reverse()    # On inverse la liste des utilisateurs mentionnés pour éviter qu'un utilisateur se mentitonne lui même\n",
    "    for i in range(nb):\n",
    "        Lettre1 = chr(randint(65, 90))   # Intervalle Unicode des lettres Majuscules de l'alphabet latin\n",
    "        Lettre2 = chr(randint(97, 122))  \n",
    "        Lettre3 = chr(randint(97, 122))  # Intervalle Unicode des lettres Minuscules de l'alphabet latin\n",
    "        Lettre4 = chr(randint(97, 122))\n",
    "        Chiffre1 = chr(randint(48, 57))  # Intervalle Unicode des chiffres \n",
    "        Utilisateur = '@' + Lettre1 + Lettre2 + Lettre3 + Lettre4 + Chiffre1  # On ajoute '@' en début de Nom d'utilisateur pour s'assurer de l'homogéité des données.\n",
    "        ListeUtilisateurs.append(Utilisateur)\n",
    "    DFUtilisateurs = DataFrame({\"Utilisateurs\": ListeUtilisateurs})\n",
    "    DFP = concat([DFUtilisateurs, DFP], axis=1)\n",
    "    return DFP\n",
    "   \n",
    "DFP = CreationUtilisateurs(DicoA.keys(), (1708-len(DicoA)), DFP)"
   ]
  },
  {
   "cell_type": "markdown",
   "metadata": {},
   "source": [
    "# Utilisation de la classe ***Inpoda***\n",
    "Maintenant que les trois variables ***DicoA***, ***DicoH*** et ***DFP*** ont été complétées on peut les transformer en objet 'Inpoda' pour réaliser les opérations d'analyses."
   ]
  },
  {
   "cell_type": "code",
   "execution_count": 179,
   "metadata": {},
   "outputs": [],
   "source": [
    "DFP = Inpoda(DF= DFP)\n",
    "DicoH = Inpoda(Dico= DicoH)\n",
    "DicoA = Inpoda(Dico= DicoA)"
   ]
  },
  {
   "cell_type": "markdown",
   "metadata": {},
   "source": [
    "# Fonctionnalitées Suplémentaires :"
   ]
  },
  {
   "cell_type": "markdown",
   "metadata": {},
   "source": [
    "- Actualisation manuelle des données "
   ]
  },
  {
   "cell_type": "code",
   "execution_count": 180,
   "metadata": {},
   "outputs": [],
   "source": [
    "# Etat : Fonctionne parfaitement\n",
    "\n",
    "def Refresh():\n",
    "    fichier = \"aitweets.json\"\n",
    "    ZoneAterrisage(fichier)\n",
    "\n",
    "Refresh()"
   ]
  },
  {
   "cell_type": "markdown",
   "metadata": {},
   "source": [
    "# Les TOP-K "
   ]
  },
  {
   "cell_type": "markdown",
   "metadata": {},
   "source": [
    "- Top K hashtags"
   ]
  },
  {
   "cell_type": "code",
   "execution_count": 181,
   "metadata": {},
   "outputs": [
    {
     "data": {
      "text/html": [
       "<div>\n",
       "<style scoped>\n",
       "    .dataframe tbody tr th:only-of-type {\n",
       "        vertical-align: middle;\n",
       "    }\n",
       "\n",
       "    .dataframe tbody tr th {\n",
       "        vertical-align: top;\n",
       "    }\n",
       "\n",
       "    .dataframe thead th {\n",
       "        text-align: right;\n",
       "    }\n",
       "</style>\n",
       "<table border=\"1\" class=\"dataframe\">\n",
       "  <thead>\n",
       "    <tr style=\"text-align: right;\">\n",
       "      <th></th>\n",
       "      <th>#</th>\n",
       "      <th>Nombre de Tweets</th>\n",
       "    </tr>\n",
       "  </thead>\n",
       "  <tbody>\n",
       "    <tr>\n",
       "      <th>11</th>\n",
       "      <td>#ArtificialIntelligence</td>\n",
       "      <td>207</td>\n",
       "    </tr>\n",
       "    <tr>\n",
       "      <th>5</th>\n",
       "      <td>#AI</td>\n",
       "      <td>204</td>\n",
       "    </tr>\n",
       "    <tr>\n",
       "      <th>2</th>\n",
       "      <td>#MachineLearning</td>\n",
       "      <td>86</td>\n",
       "    </tr>\n",
       "    <tr>\n",
       "      <th>27</th>\n",
       "      <td>#ai</td>\n",
       "      <td>52</td>\n",
       "    </tr>\n",
       "    <tr>\n",
       "      <th>3</th>\n",
       "      <td>#DataScience</td>\n",
       "      <td>50</td>\n",
       "    </tr>\n",
       "  </tbody>\n",
       "</table>\n",
       "</div>"
      ],
      "text/plain": [
       "                          #  Nombre de Tweets\n",
       "11  #ArtificialIntelligence               207\n",
       "5                       #AI               204\n",
       "2          #MachineLearning                86\n",
       "27                      #ai                52\n",
       "3              #DataScience                50"
      ]
     },
     "execution_count": 181,
     "metadata": {},
     "output_type": "execute_result"
    }
   ],
   "source": [
    "DicoH.TopKH(5)"
   ]
  },
  {
   "cell_type": "markdown",
   "metadata": {},
   "source": [
    "- Top K Utilisateurs"
   ]
  },
  {
   "cell_type": "code",
   "execution_count": 182,
   "metadata": {},
   "outputs": [
    {
     "data": {
      "text/html": [
       "<div>\n",
       "<style scoped>\n",
       "    .dataframe tbody tr th:only-of-type {\n",
       "        vertical-align: middle;\n",
       "    }\n",
       "\n",
       "    .dataframe tbody tr th {\n",
       "        vertical-align: top;\n",
       "    }\n",
       "\n",
       "    .dataframe thead th {\n",
       "        text-align: right;\n",
       "    }\n",
       "</style>\n",
       "<table border=\"1\" class=\"dataframe\">\n",
       "  <thead>\n",
       "    <tr style=\"text-align: right;\">\n",
       "      <th></th>\n",
       "      <th>Utilisateurs</th>\n",
       "      <th>RetweetCount</th>\n",
       "    </tr>\n",
       "  </thead>\n",
       "  <tbody>\n",
       "    <tr>\n",
       "      <th>1194</th>\n",
       "      <td>@Rjbm5</td>\n",
       "      <td>10327</td>\n",
       "    </tr>\n",
       "    <tr>\n",
       "      <th>1585</th>\n",
       "      <td>@Qrno7</td>\n",
       "      <td>6481</td>\n",
       "    </tr>\n",
       "    <tr>\n",
       "      <th>1587</th>\n",
       "      <td>@Slsr5</td>\n",
       "      <td>6481</td>\n",
       "    </tr>\n",
       "    <tr>\n",
       "      <th>735</th>\n",
       "      <td>@LuxuryOpinions</td>\n",
       "      <td>1660</td>\n",
       "    </tr>\n",
       "    <tr>\n",
       "      <th>1047</th>\n",
       "      <td>@SecDef</td>\n",
       "      <td>1060</td>\n",
       "    </tr>\n",
       "  </tbody>\n",
       "</table>\n",
       "</div>"
      ],
      "text/plain": [
       "         Utilisateurs RetweetCount\n",
       "1194           @Rjbm5        10327\n",
       "1585           @Qrno7         6481\n",
       "1587           @Slsr5         6481\n",
       "735   @LuxuryOpinions         1660\n",
       "1047          @SecDef         1060"
      ]
     },
     "execution_count": 182,
     "metadata": {},
     "output_type": "execute_result"
    }
   ],
   "source": [
    "DFP.TopKU(5)"
   ]
  },
  {
   "cell_type": "markdown",
   "metadata": {},
   "source": [
    "- Top K utilisateurs mentionnés"
   ]
  },
  {
   "cell_type": "code",
   "execution_count": 183,
   "metadata": {},
   "outputs": [
    {
     "data": {
      "text/html": [
       "<div>\n",
       "<style scoped>\n",
       "    .dataframe tbody tr th:only-of-type {\n",
       "        vertical-align: middle;\n",
       "    }\n",
       "\n",
       "    .dataframe tbody tr th {\n",
       "        vertical-align: top;\n",
       "    }\n",
       "\n",
       "    .dataframe thead th {\n",
       "        text-align: right;\n",
       "    }\n",
       "</style>\n",
       "<table border=\"1\" class=\"dataframe\">\n",
       "  <thead>\n",
       "    <tr style=\"text-align: right;\">\n",
       "      <th></th>\n",
       "      <th>@</th>\n",
       "      <th>Nombre de Mentions</th>\n",
       "    </tr>\n",
       "  </thead>\n",
       "  <tbody>\n",
       "    <tr>\n",
       "      <th>26</th>\n",
       "      <td>@IainLJBrown</td>\n",
       "      <td>112</td>\n",
       "    </tr>\n",
       "    <tr>\n",
       "      <th>55</th>\n",
       "      <td>@Paula_Piccard</td>\n",
       "      <td>49</td>\n",
       "    </tr>\n",
       "    <tr>\n",
       "      <th>18</th>\n",
       "      <td>@nigewillson</td>\n",
       "      <td>24</td>\n",
       "    </tr>\n",
       "    <tr>\n",
       "      <th>679</th>\n",
       "      <td>@JoshuaBarbeau</td>\n",
       "      <td>17</td>\n",
       "    </tr>\n",
       "    <tr>\n",
       "      <th>977</th>\n",
       "      <td>@sankrant</td>\n",
       "      <td>17</td>\n",
       "    </tr>\n",
       "  </tbody>\n",
       "</table>\n",
       "</div>"
      ],
      "text/plain": [
       "                  @  Nombre de Mentions\n",
       "26     @IainLJBrown                 112\n",
       "55   @Paula_Piccard                  49\n",
       "18     @nigewillson                  24\n",
       "679  @JoshuaBarbeau                  17\n",
       "977       @sankrant                  17"
      ]
     },
     "execution_count": 183,
     "metadata": {},
     "output_type": "execute_result"
    }
   ],
   "source": [
    "DicoA.TopKA(5)"
   ]
  },
  {
   "cell_type": "markdown",
   "metadata": {},
   "source": [
    "# Le Nombre de publication par Utilisateur/Hashtag"
   ]
  },
  {
   "cell_type": "markdown",
   "metadata": {},
   "source": [
    "- Le nombre de publications par utilisateur"
   ]
  },
  {
   "cell_type": "code",
   "execution_count": 184,
   "metadata": {},
   "outputs": [
    {
     "data": {
      "text/plain": [
       "('@adgpi', 27)"
      ]
     },
     "execution_count": 184,
     "metadata": {},
     "output_type": "execute_result"
    }
   ],
   "source": [
    "DFP.NbPostUtilisateur(Utilisateur=\"@adgpi\")"
   ]
  },
  {
   "cell_type": "markdown",
   "metadata": {},
   "source": [
    "- Le nombre de publications par hashtag"
   ]
  },
  {
   "cell_type": "code",
   "execution_count": 185,
   "metadata": {},
   "outputs": [
    {
     "data": {
      "text/plain": [
       "('#AI', 204)"
      ]
     },
     "execution_count": 185,
     "metadata": {},
     "output_type": "execute_result"
    }
   ],
   "source": [
    "DicoH.NbPostHashtags(hashtag= '#AI')"
   ]
  },
  {
   "cell_type": "markdown",
   "metadata": {},
   "source": [
    "# Les dernières analyses demandées"
   ]
  },
  {
   "cell_type": "markdown",
   "metadata": {},
   "source": [
    "- L’ensemble de tweets d’un utilisateur spécifique"
   ]
  },
  {
   "cell_type": "code",
   "execution_count": 186,
   "metadata": {},
   "outputs": [
    {
     "data": {
      "text/html": [
       "<div>\n",
       "<style scoped>\n",
       "    .dataframe tbody tr th:only-of-type {\n",
       "        vertical-align: middle;\n",
       "    }\n",
       "\n",
       "    .dataframe tbody tr th {\n",
       "        vertical-align: top;\n",
       "    }\n",
       "\n",
       "    .dataframe thead th {\n",
       "        text-align: right;\n",
       "    }\n",
       "</style>\n",
       "<table border=\"1\" class=\"dataframe\">\n",
       "  <thead>\n",
       "    <tr style=\"text-align: right;\">\n",
       "      <th></th>\n",
       "      <th>Tweets postés par : @Gizchina</th>\n",
       "    </tr>\n",
       "  </thead>\n",
       "  <tbody>\n",
       "    <tr>\n",
       "      <th>0</th>\n",
       "      <td>OPPO releases its first 6G white paper. A syst...</td>\n",
       "    </tr>\n",
       "    <tr>\n",
       "      <th>1</th>\n",
       "      <td>RT @sfchronicle: “Intellectually, I know it’s ...</td>\n",
       "    </tr>\n",
       "  </tbody>\n",
       "</table>\n",
       "</div>"
      ],
      "text/plain": [
       "                       Tweets postés par : @Gizchina\n",
       "0  OPPO releases its first 6G white paper. A syst...\n",
       "1  RT @sfchronicle: “Intellectually, I know it’s ..."
      ]
     },
     "execution_count": 186,
     "metadata": {},
     "output_type": "execute_result"
    }
   ],
   "source": [
    "DFP.TweetsUtilisateur(Utilisateur=\"@Gizchina\")"
   ]
  },
  {
   "cell_type": "markdown",
   "metadata": {},
   "source": [
    "- L’ensemble de tweets mentionnant un utilisateur spécifique"
   ]
  },
  {
   "cell_type": "code",
   "execution_count": 187,
   "metadata": {},
   "outputs": [
    {
     "data": {
      "text/html": [
       "<div>\n",
       "<style scoped>\n",
       "    .dataframe tbody tr th:only-of-type {\n",
       "        vertical-align: middle;\n",
       "    }\n",
       "\n",
       "    .dataframe tbody tr th {\n",
       "        vertical-align: top;\n",
       "    }\n",
       "\n",
       "    .dataframe thead th {\n",
       "        text-align: right;\n",
       "    }\n",
       "</style>\n",
       "<table border=\"1\" class=\"dataframe\">\n",
       "  <thead>\n",
       "    <tr style=\"text-align: right;\">\n",
       "      <th></th>\n",
       "      <th>Tweets mentionnant : @intratio</th>\n",
       "    </tr>\n",
       "  </thead>\n",
       "  <tbody>\n",
       "    <tr>\n",
       "      <th>75</th>\n",
       "      <td>RT @intratio: $MDVL https://t.co/rso4WTkGcW Me...</td>\n",
       "    </tr>\n",
       "    <tr>\n",
       "      <th>400</th>\n",
       "      <td>RT @intratio: https://t.co/GGI5g1FRD3 Kinnate ...</td>\n",
       "    </tr>\n",
       "    <tr>\n",
       "      <th>843</th>\n",
       "      <td>RT @intratio: $CUE https://t.co/N3KHKWvbdp Cue...</td>\n",
       "    </tr>\n",
       "  </tbody>\n",
       "</table>\n",
       "</div>"
      ],
      "text/plain": [
       "                        Tweets mentionnant : @intratio\n",
       "75   RT @intratio: $MDVL https://t.co/rso4WTkGcW Me...\n",
       "400  RT @intratio: https://t.co/GGI5g1FRD3 Kinnate ...\n",
       "843  RT @intratio: $CUE https://t.co/N3KHKWvbdp Cue..."
      ]
     },
     "execution_count": 187,
     "metadata": {},
     "output_type": "execute_result"
    }
   ],
   "source": [
    "DFP.TweetsMentionUtilisateur(Utilisateur=\"@intratio\")"
   ]
  },
  {
   "cell_type": "markdown",
   "metadata": {},
   "source": [
    "- Les utilisateurs mentionnant un hashtag spécifique"
   ]
  },
  {
   "cell_type": "code",
   "execution_count": 188,
   "metadata": {},
   "outputs": [
    {
     "data": {
      "text/html": [
       "<div>\n",
       "<style scoped>\n",
       "    .dataframe tbody tr th:only-of-type {\n",
       "        vertical-align: middle;\n",
       "    }\n",
       "\n",
       "    .dataframe tbody tr th {\n",
       "        vertical-align: top;\n",
       "    }\n",
       "\n",
       "    .dataframe thead th {\n",
       "        text-align: right;\n",
       "    }\n",
       "</style>\n",
       "<table border=\"1\" class=\"dataframe\">\n",
       "  <thead>\n",
       "    <tr style=\"text-align: right;\">\n",
       "      <th></th>\n",
       "      <th>Utilisateurs</th>\n",
       "    </tr>\n",
       "  </thead>\n",
       "  <tbody>\n",
       "    <tr>\n",
       "      <th>4</th>\n",
       "      <td>@nerdgirlz</td>\n",
       "    </tr>\n",
       "    <tr>\n",
       "      <th>8</th>\n",
       "      <td>@arXiv_Daily</td>\n",
       "    </tr>\n",
       "    <tr>\n",
       "      <th>10</th>\n",
       "      <td>@DecisionsSmart</td>\n",
       "    </tr>\n",
       "    <tr>\n",
       "      <th>42</th>\n",
       "      <td>@frontiersin</td>\n",
       "    </tr>\n",
       "    <tr>\n",
       "      <th>58</th>\n",
       "      <td>@TACHOUHONER</td>\n",
       "    </tr>\n",
       "    <tr>\n",
       "      <th>...</th>\n",
       "      <td>...</td>\n",
       "    </tr>\n",
       "    <tr>\n",
       "      <th>1679</th>\n",
       "      <td>@Opsy7</td>\n",
       "    </tr>\n",
       "    <tr>\n",
       "      <th>1681</th>\n",
       "      <td>@Fbmj2</td>\n",
       "    </tr>\n",
       "    <tr>\n",
       "      <th>1684</th>\n",
       "      <td>@Xhos8</td>\n",
       "    </tr>\n",
       "    <tr>\n",
       "      <th>1699</th>\n",
       "      <td>@Sqst6</td>\n",
       "    </tr>\n",
       "    <tr>\n",
       "      <th>1705</th>\n",
       "      <td>@Ozak6</td>\n",
       "    </tr>\n",
       "  </tbody>\n",
       "</table>\n",
       "<p>200 rows × 1 columns</p>\n",
       "</div>"
      ],
      "text/plain": [
       "         Utilisateurs\n",
       "4          @nerdgirlz\n",
       "8        @arXiv_Daily\n",
       "10    @DecisionsSmart\n",
       "42       @frontiersin\n",
       "58       @TACHOUHONER\n",
       "...               ...\n",
       "1679           @Opsy7\n",
       "1681           @Fbmj2\n",
       "1684           @Xhos8\n",
       "1699           @Sqst6\n",
       "1705           @Ozak6\n",
       "\n",
       "[200 rows x 1 columns]"
      ]
     },
     "execution_count": 188,
     "metadata": {},
     "output_type": "execute_result"
    }
   ],
   "source": [
    "DFP.UtilisateurMentionHashtag(Hashtag='#AI')"
   ]
  },
  {
   "cell_type": "markdown",
   "metadata": {},
   "source": [
    "- Les utilisateurs mentionnés par un utilisateur spécifique"
   ]
  },
  {
   "cell_type": "code",
   "execution_count": 189,
   "metadata": {},
   "outputs": [
    {
     "data": {
      "text/html": [
       "<div>\n",
       "<style scoped>\n",
       "    .dataframe tbody tr th:only-of-type {\n",
       "        vertical-align: middle;\n",
       "    }\n",
       "\n",
       "    .dataframe tbody tr th {\n",
       "        vertical-align: top;\n",
       "    }\n",
       "\n",
       "    .dataframe thead th {\n",
       "        text-align: right;\n",
       "    }\n",
       "</style>\n",
       "<table border=\"1\" class=\"dataframe\">\n",
       "  <thead>\n",
       "    <tr style=\"text-align: right;\">\n",
       "      <th></th>\n",
       "      <th>@xoce_q a mentionné :</th>\n",
       "    </tr>\n",
       "  </thead>\n",
       "  <tbody>\n",
       "    <tr>\n",
       "      <th>0</th>\n",
       "      <td>@codewithibrahim</td>\n",
       "    </tr>\n",
       "  </tbody>\n",
       "</table>\n",
       "</div>"
      ],
      "text/plain": [
       "  @xoce_q a mentionné :\n",
       "0      @codewithibrahim"
      ]
     },
     "execution_count": 189,
     "metadata": {},
     "output_type": "execute_result"
    }
   ],
   "source": [
    "DFP.UtilisateurMentionUtilsateur(Utilisateur=\"@xoce_q\")"
   ]
  },
  {
   "cell_type": "markdown",
   "metadata": {},
   "source": [
    "# Interface Graphique de Inpoda"
   ]
  },
  {
   "cell_type": "markdown",
   "metadata": {},
   "source": [
    "- Gradio"
   ]
  },
  {
   "cell_type": "markdown",
   "metadata": {},
   "source": [
    "# Ressources suplémentaires\n",
    "Des ressources suplémentaire sont disponible sur le Github dont le lien est ci dessous. Vous y trouverez notamment un diagramme détaillant le fonctionnement de **InPoDa** ainsi que le détail de la répartition des taches. \n",
    "\n",
    "Github : https://github.com/LugolBis/Projet-IN304 \n"
   ]
  }
 ],
 "metadata": {
  "kernelspec": {
   "display_name": "base",
   "language": "python",
   "name": "python3"
  },
  "language_info": {
   "codemirror_mode": {
    "name": "ipython",
    "version": 3
   },
   "file_extension": ".py",
   "mimetype": "text/x-python",
   "name": "python",
   "nbconvert_exporter": "python",
   "pygments_lexer": "ipython3",
   "version": "3.10.9"
  }
 },
 "nbformat": 4,
 "nbformat_minor": 2
}
