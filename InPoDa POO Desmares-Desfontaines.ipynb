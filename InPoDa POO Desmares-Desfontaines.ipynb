{
 "cells": [
  {
   "cell_type": "markdown",
   "metadata": {},
   "source": [
    "# Conditions d'utilisation \n",
    "Pour que **InPoDa** fonctionne correctement vérifiez que les conditions suivantes sont réunies :\n",
    "- Le fichier ***\"aitweets.json\"*** doit être dans le même dossier que  ce notebook \"**InPoDa POO Desmares-Desfontaines**\"\n",
    "- Le dossier ***\"Topics\"*** doit être dans le même dossier que ce notebook\n",
    "- Mise en garde : l'éxécution du script à été soigneusement pensé et ordonné. L'éxécution d'une fonction une seconde fois risque de mener à une erreur car le type des variables manipulées aura changé entre temps. En effet les variables principales (**DicoA**, **DicoH**, **DFP**), sont converties en objet **Inpoda** vers la fin du script. Elles ne sont donc plus compatibles à certaines opérations (comme .keys() par exemple) "
   ]
  },
  {
   "cell_type": "markdown",
   "metadata": {},
   "source": [
    "# Installation des modules\n",
    "Pour commencer on s'assure que tous les modules nécessaires à InPoDa sont correctement installés.\n",
    "On s'assure donc de l'installation des modules : ```Pandas``` , ```Textblob``` , ```Spacy``` , ```Deep_translator``` , ```Gramex``` , ```Gradio```"
   ]
  },
  {
   "cell_type": "code",
   "execution_count": 1,
   "metadata": {},
   "outputs": [],
   "source": [
    "#!pip install os\n",
    "#!pip install pandas  \n",
    "#!pip install textblob\n",
    "#!pip install spacy\n",
    "#!pip install deep_translator\n",
    "#!pip install gramex\n",
    "#!pip install gradio"
   ]
  },
  {
   "cell_type": "markdown",
   "metadata": {},
   "source": [
    "# Supression des caractères spéciaux"
   ]
  },
  {
   "cell_type": "markdown",
   "metadata": {},
   "source": [
    "Afin de correctement suprimer les caractères spéciaux de tous les tweets de la base de donnée on commence par suprimer les caractères spéciaux. \n",
    "De plus dans le cas spécifique de la base de données de tweets on utilise des expressions régulière afin de nettoyer au maximum les tweets et d'éviter tout désagrément pour les analyses qui seront réalisées par la suite."
   ]
  },
  {
   "cell_type": "code",
   "execution_count": 2,
   "metadata": {},
   "outputs": [],
   "source": [
    "def SuprCaracterSpe(Chaine=str):  # Entrée : 'str' (le tweet brut)\n",
    "# On suprime les caractères spéciaux et éléments superflus du tweet\n",
    "\n",
    "    ChaineNettoyee = ''\n",
    "    indice = 0\n",
    "\n",
    "    while indice < len(Chaine):\n",
    "        if (Chaine[indice] == 'R') and (indice < len(Chaine)-2) and (Chaine[indice] + Chaine[indice+1] == 'RT'): # On suprime les \"RT\"\n",
    "            indice += 3\n",
    "            while (indice < len(Chaine)-1) and Chaine[indice] != ' ':\n",
    "                indice+=1\n",
    "            ChaineNettoyee += ' '\n",
    "            indice += 1\n",
    "        \n",
    "        elif (Chaine[indice] == 'h') and (indice < len(Chaine)-2) and (Chaine[indice] + Chaine[indice+1:indice+4] == 'http'): # On suprime les URL\n",
    "            indice += 4\n",
    "            while (indice < len(Chaine)-1) and Chaine[indice] != ' ':\n",
    "                indice+=1\n",
    "            ChaineNettoyee += ' '\n",
    "            indice += 1\n",
    "\n",
    "        elif (Chaine[indice].isalnum() == True):\n",
    "            ChaineNettoyee += Chaine[indice]\n",
    "            indice += 1\n",
    "\n",
    "        elif (Chaine[indice] == \"\\ \"[:-1]) and (indice < len(Chaine)-2) and (Chaine[indice] + Chaine[indice+1] == '\\n'): # On suprime les sauts de ligne\n",
    "            ChaineNettoyee += ' '\n",
    "            indice += 1\n",
    "\n",
    "        elif (Chaine[indice] == '@') and (indice < len(Chaine)-2):  # On suprime les pseudonymes (donc les arobases) \n",
    "            indice += 1\n",
    "            while (indice < len(Chaine)-1) and Chaine[indice] != ' ':\n",
    "                indice += 1\n",
    "            ChaineNettoyee += ' '\n",
    "            indice += 1\n",
    "            \n",
    "        else:\n",
    "            ChaineNettoyee += ' '\n",
    "            indice += 1\n",
    "    return ChaineNettoyee     # Sortie : 'str' (Le tweet sans caractère spéciaux)"
   ]
  },
  {
   "cell_type": "markdown",
   "metadata": {},
   "source": [
    "# Création de la classe ***Tweet***"
   ]
  },
  {
   "cell_type": "code",
   "execution_count": 3,
   "metadata": {},
   "outputs": [],
   "source": [
    "class Tweet:\n",
    "    # Cette classe permet d'encapsuler toutes les fonctions d'analyses appliquée à un seul tweet.\n",
    "    # Le but est ici de pouvoir aisément extraire les données du tweet. \n",
    "\n",
    "    def __init__(self, chaine='TweetParDéfaut') :\n",
    "        # 'chaine' doit être un 'str'\n",
    "        self.chaine = chaine # Reconversion du Tweet en 'str'\n",
    "\n",
    "\n",
    "        def Hashtags(chaine=str): # Entrée : 'str'\n",
    "            # Hashtags() extrait la liste des hashtags du tweet en entrée   \n",
    "            ListeH = []\n",
    "            SousChaine = chaine.split()\n",
    "            \n",
    "            for elem in SousChaine:\n",
    "                if elem.startswith('#') and len(elem)>1:\n",
    "                    elem2 = ''\n",
    "                    indice = 1\n",
    "                    while indice < len(elem):\n",
    "                        if (elem[indice] == '_') or (elem[indice].isalnum() == True):\n",
    "                            elem2 += elem[indice]\n",
    "                            indice += 1\n",
    "                        else:\n",
    "                            indice = len(elem)\n",
    "                    ListeH.append(elem[0]+elem2)\n",
    "            return ListeH   # Sortie : 'list' contenant les '#' du tweet\n",
    "        \n",
    "        self.Hashtags = Hashtags(chaine)\n",
    "\n",
    "        def Arobases(chaine=str): # Entrée : 'str'\n",
    "            # Arobases() extrait la liste des arobases du tweet en entrée\n",
    "            ListeA = []\n",
    "            SousChaine = chaine.split()\n",
    "\n",
    "            for elem in SousChaine:\n",
    "                if elem.startswith('@') and len(elem)>1:\n",
    "                    elem2 = ''\n",
    "                    indice = 1\n",
    "                    while indice < len(elem):\n",
    "                        if (elem[indice] == '_') or (elem[indice].isalnum() == True):\n",
    "                            elem2 += elem[indice]\n",
    "                            indice += 1\n",
    "                        else:\n",
    "                            indice = len(elem)\n",
    "                    ListeA.append(elem[0]+elem2)\n",
    "            return ListeA   # Sortie : 'list' contenant les @ du tweet \n",
    "\n",
    "        self.Arobases = Arobases(chaine)\n",
    "\n",
    "        def Sentiment(Tweet=str): # Entrée : 'str'\n",
    "            # Sentiment() extrait le sentiment du tweet en entrée\n",
    "            from textblob import TextBlob\n",
    "            blob = TextBlob(Tweet)\n",
    "            polarite = blob.sentiment.polarity\n",
    "\n",
    "            if polarite > 0:\n",
    "                return 'Positif'\n",
    "            elif polarite < 0:\n",
    "                return 'Negatif'\n",
    "            else:\n",
    "                return 'Neutre' # Sortie : 'str' contenant le sentiment du tweet\n",
    "            \n",
    "        self.Sentiment = Sentiment(chaine)\n",
    "    \n",
    "    def __repr__(self): # On définit ici la représentation de notre objet de classe \"Tweet\"\n",
    "        return self.chaine # Sa représentation est sous forme de 'str'   "
   ]
  },
  {
   "cell_type": "markdown",
   "metadata": {},
   "source": [
    "# Création de la classe ***Inpoda***"
   ]
  },
  {
   "cell_type": "code",
   "execution_count": 4,
   "metadata": {},
   "outputs": [],
   "source": [
    "class Inpoda:\n",
    "    # Cette classe permet d'encapsuler toutes les fonctions d'analyses appliquée à la base de données.\n",
    "    # Le but est ici de pouvoir aisément extraire les données du DataFrame principal (DFP) et de nos deux dictionnaires (DicoA et DicoH). \n",
    "\n",
    "    def __init__(self, Dico=None, DF=None):\n",
    "        from pandas import DataFrame\n",
    "        if DF is None:    # Si l'objet converti en 'Inpoda' n'est pas un 'DataFrame'\n",
    "            DF = DataFrame([{\"DataFrameParDéfaut\": True}])  # On crée un DataFrame par défaut\n",
    "        elif Dico is None: # Si l'objet converti en 'Inpoda' n'est pas un 'dict'\n",
    "            Dico = {\"DicoParDéfaut\": True}   # On crée un Dictionnaire par défaut\n",
    "\n",
    "        self.Dico = Dico\n",
    "        assert type(self.Dico) == type({})   # Avant d'aller plus loin on vérifie qu'il n'y a pas d'erreur de type d'objet\n",
    "        self.DF = DF\n",
    "        assert type(self.DF) == type(DataFrame())   # Avant d'aller plus loin on vérifie qu'il n'y a pas d'erreur de type d'objet\n",
    "\n",
    "\n",
    "    def TopKH(self, K=5, DicoH=None):# Entrée : {K : 'int' (si K>0 on aura un tri décroissant, si K<0 on aura un tri croissant)\n",
    "                                            #    DicoH : 'dict' (Dictionnaire contenant tous les Hashtags de la base de données et leur nombre)}\n",
    "        # TopKH() élabore un DataFrame contenant le top K des hashtags \n",
    "        from pandas import DataFrame\n",
    "        if (DicoH is None) or (type(DicoH)==Inpoda):   # Si le Dictionnaire n'est pas du bon type on le converti en 'dict'\n",
    "            DicoH = self.Dico\n",
    "        \n",
    "        DFKH = DataFrame(DicoH.items(), columns=['#', 'Nombre de Tweets'])\n",
    "        if K > 0:\n",
    "            DFKH = DFKH.sort_values(by='Nombre de Tweets', ascending=False) # On tri le Dataframe selon les valeurs de la deuxième colonne 'Nombre de Tweets' et on precise 'ascending=False' pour l'ordre décroissant\n",
    "        else:\n",
    "            DFKH = DFKH.sort_values(by='Nombre de Tweets', ascending=True) # Inversement on tri le DataFrame par ordre Décroissant\n",
    "        return DFKH.head(abs(K)) # On passe la valeur absolue de K dans la méthode .head() pour s'assurer qu'elle affiche correctement le Top demandé\n",
    "                # Sortie : 'DataFrame' (de deux colonnes contenant les Utilisateurs mentionnés et le Nombre de fois qu'ils ont été mentionné)\n",
    "\n",
    "\n",
    "    def TopKU(self, K=5, DFP=None):   # Entrée : {K : 'int' (si K>0 on aura un tri décroissant, si K<0 on aura un tri croissant)\n",
    "                                     #          DFP : 'DataFrame' (Le DataFrame principal)}\n",
    "        # TopKU() élabore un DataFrame contenant le top K des utilisateurs qui postent le plus\n",
    "        from pandas import concat\n",
    "        if (DFP is None) or (type(DFP)==Inpoda):  # Si le DataFrame n'est pas du bon type on le converti en 'DataFrame'\n",
    "            DFP = self.DF\n",
    "\n",
    "        Taille = DFP[\"RetweetCount\"].shape  # On récupère les dimensions de la colonne \"RetweetCount\" de DFP \n",
    "        for i in range(Taille[0]):\n",
    "            valeur = int(DFP[\"RetweetCount\"].loc[i])  # On converti les 'str' de la colonne \"RetweetCount\" en entier pour correctement les trier\n",
    "            DFP[\"RetweetCount\"].loc[i] = valeur       \n",
    "        \n",
    "        DFKU = concat([DFP[\"Utilisateurs\"], DFP[\"RetweetCount\"]], axis=1)\n",
    "        if K > 0:\n",
    "            DFKU = DFKU.sort_values(by=\"RetweetCount\", ascending=False) # On tri le Dataframe selon les valeurs de la deuxième colonne 'RetweetCount' et on precise 'ascending=False' pour l'ordre décroissant\n",
    "        else:\n",
    "            DFKU = DFKU.sort_values(by=\"RetweetCount\", ascending=True) # Inversement on tri le DataFrame par ordre Décroissant\n",
    "        return DFKU.head(abs(K))  # On passe la valeur absolue de K dans la méthode .head() pour s'assurer qu'elle affiche correctement le Top demandé\n",
    "         # Sortie : 'DataFrame' (de deux colonnes contenant les Utilisateurs et le Nombre de fois qu'ils ont tweeté) \n",
    "\n",
    "\n",
    "    def TopKA(self, K=5, DicoA=None):  # Entrée : {K :'int' (si K>0 on aura un tri décroissant, si K<0 on aura un tri croissant)\n",
    "                        #          DicoA : 'dict' (Dictionnaire contenant tous les Arobases de la base de données et leur nombre)}\n",
    "        # TopKA() élabore un DataFrame contenant le top K des utilisateurs les plus mentionnés\n",
    "        from pandas import DataFrame\n",
    "        if (DicoA is None) or (type(DicoA)==Inpoda):   # Si le Dictionnaire n'est pas du bon type on le converti en 'dict'\n",
    "            DicoA = self.Dico\n",
    "\n",
    "        DFKA = DataFrame(DicoA.items(), columns=['@', 'Nombre de Mentions'])\n",
    "        if K > 0:\n",
    "            DFKA = DFKA.sort_values(by='Nombre de Mentions', ascending=False) # On tri le Dataframe selon les valeurs de la deuxième colonne 'Nombre de Mentions' et on precise 'ascending=False' pour l'ordre décroissant\n",
    "        else:\n",
    "            DFKA = DFKA.sort_values(by='Nombre de Mentions', ascending=True) # Inversement on tri le DataFrame par ordre Décroissant  \n",
    "        return DFKA.head(abs(K))  # On passe la valeur absolue de K dans la méthode .head() pour s'assurer qu'elle affiche correctement le Top demandé\n",
    "            # Sortie : 'DataFrame' (de deux colonnes contenant les Utilisateurs et le Nombre de fois qu'ils ont été mentionnés) \n",
    "\n",
    "    def TopKT(self, K=5, DicoT=None):  # Entrée : {K :'int' (si K>0 on aura un tri décroissant, si K<0 on aura un tri croissant)\n",
    "                        #          DicoT : 'dict' (Dictionnaire contenant tous les Topics de la base de données et leur nombre)}\n",
    "        # TopKT() élabore un DataFrame contenant le top K des utilisateurs les plus mentionnés\n",
    "        from pandas import DataFrame\n",
    "        if (DicoT is None) or (type(DicoT)==Inpoda):   # Si le Dictionnaire n'est pas du bon type on le converti en 'dict'\n",
    "            DicoT = self.Dico\n",
    "\n",
    "        DFKT = DataFrame(DicoT.items(), columns=['Topics', 'Nombre de Topics'])\n",
    "        if K > 0:\n",
    "            DFKT = DFKT.sort_values(by='Nombre de Topics', ascending=False) # On tri le Dataframe selon les valeurs de la deuxième colonne 'Nombre de Mentions' et on precise 'ascending=False' pour l'ordre décroissant\n",
    "        else:\n",
    "            DFKT = DFKT.sort_values(by='Nombre de Topics', ascending=True) # Inversement on tri le DataFrame par ordre Décroissant  \n",
    "        return DFKT.head(abs(K))  # On passe la valeur absolue de K dans la méthode .head() pour s'assurer qu'elle affiche correctement le Top demandé\n",
    "            # Sortie : 'DataFrame' (de deux colonnes contenant les Topics et le Nombre de fois qu'ils ont été tweeté)\n",
    "\n",
    "\n",
    "    def NbPostUtilisateur(self, Utilisateur=\"Lugol\", DFP=None) : # Entrée : {Utilisateur : 'str' (Le Nom de l'utilisateur)\n",
    "                                                                  #          DFP : 'DataFrame' (DataFrame principal)}\n",
    "        # NbPostUtilisateur() extrait le nombre de tweets d'un Utilisateur \n",
    "        if (DFP is None) or (type(DFP)==Inpoda):  # Si le DataFrame n'est pas du bon type on le converti en 'DataFrame'\n",
    "            DFP = self.DF\n",
    "\n",
    "        Taille = DFP.shape\n",
    "        for i in range(Taille[0]):\n",
    "            if DFP[\"Utilisateurs\"].loc[i] == Utilisateur:\n",
    "                return (Utilisateur, DFP[\"RetweetCount\"].loc[i])  \n",
    "        return (Utilisateur, 0)   # Sortie : 'tuple' (Utilisateur, nombre de Publications)\n",
    "\n",
    "\n",
    "    def NbPostHashtags(self, hashtag='#ParDéfaut', DicoH=None): # Entrée : { hashtag : 'str' (Le Hashtag recherché)\n",
    "                                                                #            DicoH : 'dict' (Le dictionnaire des Hastags)}\n",
    "        # NbPostHashtags() extrait le nombre de tweets mentionnant un hashtag  \n",
    "        if (DicoH is None) or (type(DicoH)==Inpoda):   # Si le Dictionnaire n'est pas du bon type on le converti en 'dict'\n",
    "            DicoH = self.Dico\n",
    "\n",
    "        if hashtag in DicoH:\n",
    "            return (hashtag, DicoH[hashtag])\n",
    "        else:\n",
    "            return (hashtag, 0) # Sortie : 'tuple' (#, nombre de publications dans lequel il est mentionné)\n",
    "        \n",
    "    def NbPostTopics(self, topic='TopicParDéfaut', DicoT=None): # Entrée : { hashtag : 'str' (Le Topic recherché)\n",
    "                                                                #            DicoH : 'dict' (Le dictionnaire des Topics)}\n",
    "        # NbPostTopics() extrait le nombre de tweets mentionnant un Topic\n",
    "        if (DicoT is None) or (type(DicoT)==Inpoda):   # Si le Dictionnaire n'est pas du bon type on le converti en 'dict'\n",
    "            DicoT = self.Dico\n",
    "\n",
    "        if topic in DicoT:\n",
    "            return (topic, DicoT[topic])\n",
    "        else:\n",
    "            return (topic, 0) # Sortie : 'tuple' (Topic, nombre de publications dans lequel il est mentionné)\n",
    "    \n",
    "\n",
    "    def TweetsUtilisateur(self, Utilisateur=\"Lugol\", DFP=None): # Entrée : { Utilisateur : 'str' (Nom de l'Utilisateur)\n",
    "                                                                #            DFP : 'DataFrame' (DataFrame principal) }\n",
    "        # TweetsUtilisateur() élabore un DataFrame contenant tous les tweets de l'Utilisateur \n",
    "        from pandas import DataFrame\n",
    "        if (DFP is None) or (type(DFP)==Inpoda):  # Si le DataFrame n'est pas du bon type on le converti en 'DataFrame'\n",
    "            DFP = self.DF\n",
    "        if Utilisateur[0] != \"@\":\n",
    "            Utilisateur = \"@\" + Utilisateur\n",
    "        \n",
    "        ExpressionR = 'RT ' + Utilisateur  # On utilise une expression régulière pour savoir si le tweet est un \"Retweet ('RT')\"\n",
    "        ListeTweets = []\n",
    "        Taille = DFP[\"TweetText\"].shape\n",
    "        for indice in range(Taille[0]):\n",
    "            tweet = DFP[\"TweetText\"].loc[indice]\n",
    "            tweet = tweet.chaine   # On accède au tweet sous forme de 'str' avec l'attribut .chaine de la classe Tweet\n",
    "            if (ExpressionR in tweet) and (tweet[len(ExpressionR)+2:] not in ListeTweets):\n",
    "                ListeTweets.append(tweet[len(ExpressionR)+2:])\n",
    "            elif (DFP[\"Utilisateurs\"].loc[indice] == Utilisateur):\n",
    "                ListeTweets.append(tweet)\n",
    "\n",
    "        if ListeTweets == []:\n",
    "            return DataFrame([{\"Tweets postés par : \" + Utilisateur:\"Erreur : Aucun Tweet posté\"}])\n",
    "        else:\n",
    "            return DataFrame({\"Tweets postés par : \" + Utilisateur:ListeTweets}) \n",
    "                # Sortie : 'DataFrame' contenant les à chaque ligne un tweet de l'utilisateur (Tweet brut) \n",
    "                #          (attention l'index des Tweets de DFTU ne correspondent pas à leur index dans DFP)\n",
    "\n",
    "\n",
    "    def TweetsMentionUtilisateur(self, Utilisateur = \"Lugol\", DFP = None): # Entrée : { Utilisateur : 'str' (Nom d'Utilisateur)\n",
    "                                                                           #            DFP : 'DataFrame' (DataFrame principal)\n",
    "        # TweetsMentionUtilisateur() élabore un DataFrame contenant les tweets mentionnant un utilisateur\n",
    "        from pandas import DataFrame\n",
    "        if (DFP is None) or (type(DFP)==Inpoda):  # Si le DataFrame n'est pas du bon type on le converti en 'DataFrame'\n",
    "            DFP = self.DF\n",
    "\n",
    "        Taille = DFP.shape\n",
    "        ListeIndiceTweets = []\n",
    "        for i in range(Taille[0]):\n",
    "            ListeA = DFP[\"@\"].loc[i]\n",
    "            if Utilisateur in ListeA:\n",
    "                ListeIndiceTweets.append(i)\n",
    "\n",
    "        DFTMU = DataFrame(DFP[\"TweetText\"].iloc[ListeIndiceTweets])\n",
    "        DFTMU = DFTMU.rename(columns={\"TweetText\":\"Tweets mentionnant : \" + Utilisateur})  # On renomme la colonne pour plus de clarté \n",
    "        return DFTMU     # Sortie : 'DataFrame' contenant à chaque ligne les Tweets mentionnant l'Utilisateur, \n",
    "                                # l'index de chaque ligne correpond à celui du Tweet brut stocké dans DFP \n",
    "\n",
    "\n",
    "    def UtilisateurMentionHashtag(self, Hashtag = \"#ParDéfaut\", DFP = None): # Entrée : { Hastag : 'str' (Hashtag)\n",
    "                                             #            DFP : 'DataFrame' (DataFrame principal) }\n",
    "        # UtilisateruMentionHashtag() élabore un DataFrame contenant les Utilisateurs qui ont mentionné le Hashtag dans leur tweet\n",
    "        from pandas import DataFrame\n",
    "        if (DFP is None) or (type(DFP)==Inpoda):  # Si le DataFrame n'est pas du bon type on le converti en 'DataFrame'\n",
    "            DFP = self.DF\n",
    "\n",
    "        Taille = DFP.shape\n",
    "        ListeIndiceTweets = []\n",
    "        for i in range(Taille[0]):\n",
    "            ListeH = DFP[\"#\"].loc[i]\n",
    "            if Hashtag in ListeH:\n",
    "                ListeIndiceTweets.append(i)\n",
    "\n",
    "        if ListeIndiceTweets == []:\n",
    "            return DataFrame([{\"Utilisateurs\":\"Erreur : Votre Hashtag n'existe pas\"}])\n",
    "        else:\n",
    "            return DataFrame(DFP[\"Utilisateurs\"].iloc[ListeIndiceTweets]) \n",
    "              # Sortie : 'DataFrame' contenant à chaque ligne un Utilisateur qui à mentionner le Hashtag dans son tweet, \n",
    "              #          l'index correspond à celui de l'Utilisateur dans DFP\n",
    "\n",
    "\n",
    "    def UtilisateurMentionUtilsateur(self, Utilisateur = \"Lugol\", DFP = None):  # Entrée : { Utilisateur : 'str' (Nom d'Utilisateur)\n",
    "                                                                    #            DFP : 'DataFrame' (DataFrame principal)\n",
    "        # UtilisateruMentionUtilisateur() élabore un DataFrame contenant les Utilisateurs mentionnés par un Utilisateur spécifique\n",
    "        from pandas import DataFrame\n",
    "        if (DFP is None) or (type(DFP)==Inpoda):  # Si le DataFrame n'est pas du bon type on le converti en 'DataFrame'\n",
    "            DFP = self.DF\n",
    "            \n",
    "        Taille = DFP.shape\n",
    "        for i in range(Taille[0]):\n",
    "            if DFP[\"Utilisateurs\"].loc[i] == Utilisateur:\n",
    "                return DataFrame({Utilisateur + \" a mentionné :\":DFP[\"@\"].loc[i]})   \n",
    "        return DataFrame([{\"Utilisateurs\":\"Erreur : Votre Utilisateur n'existe pas\"}]) \n",
    "            # Sortie : 'DataFrame'\n",
    "\n",
    "\n",
    "    def Histogramme(self): # Entrée : 'DataFrame' (On prend en entrée le DataFrame obtenu grâce a l'une des fonction \"TopK\")\n",
    "        # Cette fonction affiche l'histogramme du Top-K\n",
    "        import matplotlib.pyplot as plt\n",
    "        from pandas import DataFrame\n",
    "        if type(self)==Inpoda:\n",
    "            self = self.DF\n",
    "        assert len(self.columns) == 2 # On s'assure que la DataFrame a deux colonnes\n",
    "\n",
    "        values = self.iloc[:, 1].tolist()\n",
    "        labels = self.iloc[:, 0].tolist()\n",
    "        titre = \"Histogramme du Top-K du \" + self.columns[1]\n",
    "        légendeA = self.columns[0]\n",
    "\n",
    "        if values!=[0 for i in range(len(values))]: # On vérifie que toutes les valeurs ne sont pas nulles\n",
    "            plt.bar(labels, values) # Création de l'Histogramme \n",
    "        else:\n",
    "            titre = \"Nuage de points du Top-K du \" + self.columns[1]\n",
    "            plt.scatter(labels, values) # Lorsque toutes les valeurs sont nulles on crée un nuage de points\n",
    "\n",
    "        plt.xlabel(légendeA) # Ajout d'étiquettes et de titres\n",
    "        plt.ylabel(\"Effectif\")\n",
    "        plt.title(titre)\n",
    "        plt.xticks(rotation=45, ha=\"right\")  # Rotation des noms pour une meilleure lisibilité\n",
    "        plt.show() # Affichage de l'Histogramme\n",
    "\n",
    "\n",
    "    def __repr__(self):     \n",
    "        if (self.Dico != {\"DicoParDéfaut\": True}) and (self.Dico != {}):  # On adapte la représentation de notre objet en fonction de son type initial \n",
    "            return repr(self.Dico)\n",
    "        else:\n",
    "            return repr(self.DF)\n"
   ]
  },
  {
   "cell_type": "markdown",
   "metadata": {},
   "source": [
    "# Récupération des Tweets du fichier Json → Json (Zone d'aterrissage)"
   ]
  },
  {
   "cell_type": "code",
   "execution_count": 5,
   "metadata": {},
   "outputs": [],
   "source": [
    "def ZoneAtterrissage(NomFichier=str):\n",
    "    # On écrit tous les tweets nettoyés dans un fichier json \n",
    "    from json import loads\n",
    "\n",
    "    with open(NomFichier, 'r') as fs, open(\"Zone d’atterrissage.json\", 'w') as fd:\n",
    "        ListeTweets = []\n",
    "        for ligne in fs:\n",
    "            dicoL = loads(ligne)\n",
    "            tweet = dicoL[\"TweetText\"] \n",
    "            tweetN = SuprCaracterSpe(tweet)  # Suprime tous les caractères spéciaux, les RT et les pseudonymes\n",
    "            ListeTweets.append(tweetN)\n",
    "        Taille = len(ListeTweets)\n",
    "        Début = '{'+'\"'+'Tweets'+'\"'+':'+'['\n",
    "        ER1 = '\"'     # Utilisation d'expression régulière\n",
    "        ER2 = '\",'\n",
    "        \n",
    "        fd.write(Début)\n",
    "        for i in range(Taille-1):\n",
    "            ER3 = ER1 + ListeTweets[i] + ER2\n",
    "            fd.write(ER3)\n",
    "        ER4 = ER1 + ListeTweets[-1] + ER1\n",
    "        Fin = ']}'\n",
    "        fd.write(ER4+Fin)\n",
    "\n",
    "fichier = \"aitweets.json\"\n",
    "ZoneAtterrissage(fichier)"
   ]
  },
  {
   "cell_type": "markdown",
   "metadata": {},
   "source": [
    "# Topics\n",
    "A l'aide d'un modèle ```BERTopic``` préalablement entraîné et stocké dans le dossier ***\"Topics\"***, nous allons analyser les tweets nettoyés et stockés au sein de la ***\"Zone d'atterrissage\"***."
   ]
  },
  {
   "cell_type": "code",
   "execution_count": 32,
   "metadata": {},
   "outputs": [],
   "source": [
    "def Topics(): # Entrée : aucune \n",
    "    # Extrait les sujets des tweets nettoyés à l'aide d'un modèle BERTopic\n",
    "    # Remarque : le temps d'éxécution de cette fonction peut varier de 20 secondes à plus de 1 minute \n",
    "    from bertopic import BERTopic\n",
    "    from pandas import DataFrame\n",
    "    from json import loads\n",
    "\n",
    "    Topics_model = BERTopic.load(\"Topics\") # On importe notre modèle préalablement entraîné\n",
    "\n",
    "    with open(\"Zone d’atterrissage.json\", \"r\") as fs: # On récupère les tweets nettoyés dans la \"Zone d'aterrissage\"\n",
    "        ligne = fs.readline()\n",
    "        DicoFichier = loads(ligne)\n",
    "        ListeTweets = DicoFichier[\"Tweets\"] \n",
    "        ListeTopics = []\n",
    "        for tweet in ListeTweets:\n",
    "            assert type(tweet) == str\n",
    "            similar_topics, similarity = Topics_model.find_topics(tweet, top_n=180) \n",
    "            tOpics = Topics_model.get_topic(similar_topics[0])  # on extrait la liste des sujets\n",
    "            ListeTopics.append([Topic[0] for Topic in tOpics ][1:])\n",
    "\n",
    "    return DataFrame({\"Topics\" : ListeTopics}) # Sortie : 'DataFrame'\n",
    "\n",
    "DFT = Topics()"
   ]
  },
  {
   "cell_type": "markdown",
   "metadata": {},
   "source": [
    "# Récupération des Données du fichier Json → DataFrame ('DFP')"
   ]
  },
  {
   "cell_type": "code",
   "execution_count": 7,
   "metadata": {},
   "outputs": [
    {
     "data": {
      "text/html": [
       "<div>\n",
       "<style scoped>\n",
       "    .dataframe tbody tr th:only-of-type {\n",
       "        vertical-align: middle;\n",
       "    }\n",
       "\n",
       "    .dataframe tbody tr th {\n",
       "        vertical-align: top;\n",
       "    }\n",
       "\n",
       "    .dataframe thead th {\n",
       "        text-align: right;\n",
       "    }\n",
       "</style>\n",
       "<table border=\"1\" class=\"dataframe\">\n",
       "  <thead>\n",
       "    <tr style=\"text-align: right;\">\n",
       "      <th></th>\n",
       "      <th>id</th>\n",
       "      <th>AuthorLocation</th>\n",
       "      <th>CreatedAt</th>\n",
       "      <th>RetweetCount</th>\n",
       "      <th>TweetLanguage</th>\n",
       "      <th>TweetText</th>\n",
       "      <th>@</th>\n",
       "      <th>#</th>\n",
       "      <th>Sentiment</th>\n",
       "    </tr>\n",
       "  </thead>\n",
       "  <tbody>\n",
       "    <tr>\n",
       "      <th>0</th>\n",
       "      <td>1415291904850153474</td>\n",
       "      <td></td>\n",
       "      <td>2021-07-14T12:47:39Z</td>\n",
       "      <td>0</td>\n",
       "      <td>en</td>\n",
       "      <td>@____bruvteresa_ According to research, NASA c...</td>\n",
       "      <td>[@____bruvteresa_]</td>\n",
       "      <td>[]</td>\n",
       "      <td>Positif</td>\n",
       "    </tr>\n",
       "    <tr>\n",
       "      <th>1</th>\n",
       "      <td>1415291947560828933</td>\n",
       "      <td>Mysore  and  BERLIN</td>\n",
       "      <td>2021-07-14T12:47:49Z</td>\n",
       "      <td>2</td>\n",
       "      <td>en</td>\n",
       "      <td>RT @HDataSystems: Artificial Intelligence and ...</td>\n",
       "      <td>[@HDataSystems]</td>\n",
       "      <td>[#hdatasystems, #Artificia]</td>\n",
       "      <td>Negatif</td>\n",
       "    </tr>\n",
       "    <tr>\n",
       "      <th>2</th>\n",
       "      <td>1415291877897605120</td>\n",
       "      <td></td>\n",
       "      <td>2021-07-14T12:47:33Z</td>\n",
       "      <td>246</td>\n",
       "      <td>en</td>\n",
       "      <td>RT @adgpi: Army Technology Board conducted the...</td>\n",
       "      <td>[@adgpi]</td>\n",
       "      <td>[]</td>\n",
       "      <td>Negatif</td>\n",
       "    </tr>\n",
       "    <tr>\n",
       "      <th>3</th>\n",
       "      <td>1415291886860967940</td>\n",
       "      <td></td>\n",
       "      <td>2021-07-14T12:47:35Z</td>\n",
       "      <td>1</td>\n",
       "      <td>en</td>\n",
       "      <td>RT @pacorjo: According to a recent survey, the...</td>\n",
       "      <td>[@pacorjo]</td>\n",
       "      <td>[]</td>\n",
       "      <td>Positif</td>\n",
       "    </tr>\n",
       "    <tr>\n",
       "      <th>4</th>\n",
       "      <td>1415291968700264450</td>\n",
       "      <td>Internet</td>\n",
       "      <td>2021-07-14T12:47:54Z</td>\n",
       "      <td>20</td>\n",
       "      <td>en</td>\n",
       "      <td>RT @HarbRimah: Making AI Sing https://t.co/FJo...</td>\n",
       "      <td>[@HarbRimah]</td>\n",
       "      <td>[#MachineLearning, #DataScience, #Python, #AI,...</td>\n",
       "      <td>Neutre</td>\n",
       "    </tr>\n",
       "    <tr>\n",
       "      <th>...</th>\n",
       "      <td>...</td>\n",
       "      <td>...</td>\n",
       "      <td>...</td>\n",
       "      <td>...</td>\n",
       "      <td>...</td>\n",
       "      <td>...</td>\n",
       "      <td>...</td>\n",
       "      <td>...</td>\n",
       "      <td>...</td>\n",
       "    </tr>\n",
       "    <tr>\n",
       "      <th>1703</th>\n",
       "      <td>1421408743770791938</td>\n",
       "      <td>Liverpool, England</td>\n",
       "      <td>2021-07-31T09:53:47Z</td>\n",
       "      <td>1</td>\n",
       "      <td>en</td>\n",
       "      <td>RT @innomaticshyd: Top 10 Real world Artificia...</td>\n",
       "      <td>[@innomaticshyd]</td>\n",
       "      <td>[]</td>\n",
       "      <td>Positif</td>\n",
       "    </tr>\n",
       "    <tr>\n",
       "      <th>1704</th>\n",
       "      <td>1421424066305605634</td>\n",
       "      <td></td>\n",
       "      <td>2021-07-31T10:54:40Z</td>\n",
       "      <td>0</td>\n",
       "      <td>en</td>\n",
       "      <td>Iowa State part of U.S. National Science Found...</td>\n",
       "      <td>[]</td>\n",
       "      <td>[#ArtificialIntelligence, #IIoT, #GenerativeAd...</td>\n",
       "      <td>Positif</td>\n",
       "    </tr>\n",
       "    <tr>\n",
       "      <th>1705</th>\n",
       "      <td>1421423882427371521</td>\n",
       "      <td>127.0.0.1</td>\n",
       "      <td>2021-07-31T10:53:57Z</td>\n",
       "      <td>17</td>\n",
       "      <td>en</td>\n",
       "      <td>RT @intellimetri: Human Assisted #ArtificialIn...</td>\n",
       "      <td>[@intellimetri, @nerdgirlz, @forbes, @ForbesBR...</td>\n",
       "      <td>[#ArtificialIntelligence, #AI]</td>\n",
       "      <td>Neutre</td>\n",
       "    </tr>\n",
       "    <tr>\n",
       "      <th>1706</th>\n",
       "      <td>1421423971858149377</td>\n",
       "      <td>Singapore, Singapore</td>\n",
       "      <td>2021-07-31T10:54:18Z</td>\n",
       "      <td>12</td>\n",
       "      <td>en</td>\n",
       "      <td>RT @IainLJBrown: Artificial Intelligence learn...</td>\n",
       "      <td>[@IainLJBrown]</td>\n",
       "      <td>[#Artificia]</td>\n",
       "      <td>Positif</td>\n",
       "    </tr>\n",
       "    <tr>\n",
       "      <th>1707</th>\n",
       "      <td>1421423964845395969</td>\n",
       "      <td>Torremolinos, España</td>\n",
       "      <td>2021-07-31T10:54:16Z</td>\n",
       "      <td>17</td>\n",
       "      <td>en</td>\n",
       "      <td>RT @marcusborba: Artificial Intelligence May F...</td>\n",
       "      <td>[@marcusborba, @TAMU]</td>\n",
       "      <td>[#Healthcare, #A]</td>\n",
       "      <td>Negatif</td>\n",
       "    </tr>\n",
       "  </tbody>\n",
       "</table>\n",
       "<p>1708 rows × 9 columns</p>\n",
       "</div>"
      ],
      "text/plain": [
       "                       id        AuthorLocation             CreatedAt  \\\n",
       "0     1415291904850153474                        2021-07-14T12:47:39Z   \n",
       "1     1415291947560828933   Mysore  and  BERLIN  2021-07-14T12:47:49Z   \n",
       "2     1415291877897605120                        2021-07-14T12:47:33Z   \n",
       "3     1415291886860967940                        2021-07-14T12:47:35Z   \n",
       "4     1415291968700264450              Internet  2021-07-14T12:47:54Z   \n",
       "...                   ...                   ...                   ...   \n",
       "1703  1421408743770791938    Liverpool, England  2021-07-31T09:53:47Z   \n",
       "1704  1421424066305605634                        2021-07-31T10:54:40Z   \n",
       "1705  1421423882427371521             127.0.0.1  2021-07-31T10:53:57Z   \n",
       "1706  1421423971858149377  Singapore, Singapore  2021-07-31T10:54:18Z   \n",
       "1707  1421423964845395969  Torremolinos, España  2021-07-31T10:54:16Z   \n",
       "\n",
       "     RetweetCount TweetLanguage  \\\n",
       "0               0            en   \n",
       "1               2            en   \n",
       "2             246            en   \n",
       "3               1            en   \n",
       "4              20            en   \n",
       "...           ...           ...   \n",
       "1703            1            en   \n",
       "1704            0            en   \n",
       "1705           17            en   \n",
       "1706           12            en   \n",
       "1707           17            en   \n",
       "\n",
       "                                              TweetText  \\\n",
       "0     @____bruvteresa_ According to research, NASA c...   \n",
       "1     RT @HDataSystems: Artificial Intelligence and ...   \n",
       "2     RT @adgpi: Army Technology Board conducted the...   \n",
       "3     RT @pacorjo: According to a recent survey, the...   \n",
       "4     RT @HarbRimah: Making AI Sing https://t.co/FJo...   \n",
       "...                                                 ...   \n",
       "1703  RT @innomaticshyd: Top 10 Real world Artificia...   \n",
       "1704  Iowa State part of U.S. National Science Found...   \n",
       "1705  RT @intellimetri: Human Assisted #ArtificialIn...   \n",
       "1706  RT @IainLJBrown: Artificial Intelligence learn...   \n",
       "1707  RT @marcusborba: Artificial Intelligence May F...   \n",
       "\n",
       "                                                      @  \\\n",
       "0                                    [@____bruvteresa_]   \n",
       "1                                       [@HDataSystems]   \n",
       "2                                              [@adgpi]   \n",
       "3                                            [@pacorjo]   \n",
       "4                                          [@HarbRimah]   \n",
       "...                                                 ...   \n",
       "1703                                   [@innomaticshyd]   \n",
       "1704                                                 []   \n",
       "1705  [@intellimetri, @nerdgirlz, @forbes, @ForbesBR...   \n",
       "1706                                     [@IainLJBrown]   \n",
       "1707                              [@marcusborba, @TAMU]   \n",
       "\n",
       "                                                      # Sentiment  \n",
       "0                                                    []   Positif  \n",
       "1                           [#hdatasystems, #Artificia]   Negatif  \n",
       "2                                                    []   Negatif  \n",
       "3                                                    []   Positif  \n",
       "4     [#MachineLearning, #DataScience, #Python, #AI,...    Neutre  \n",
       "...                                                 ...       ...  \n",
       "1703                                                 []   Positif  \n",
       "1704  [#ArtificialIntelligence, #IIoT, #GenerativeAd...   Positif  \n",
       "1705                     [#ArtificialIntelligence, #AI]    Neutre  \n",
       "1706                                       [#Artificia]   Positif  \n",
       "1707                                  [#Healthcare, #A]   Negatif  \n",
       "\n",
       "[1708 rows x 9 columns]"
      ]
     },
     "execution_count": 7,
     "metadata": {},
     "output_type": "execute_result"
    }
   ],
   "source": [
    "def RecupDonneesP(NomFichier=str):  # Entrée : 'str' \n",
    "    # Stockage et analyses préliminaires des données. L'objectif est ici d'élaborer le DataFrame principal sur lequel toutes nos analyses vont reposer.\n",
    "    from pandas import DataFrame\n",
    "    from pandas import concat\n",
    "    from json import loads\n",
    "    \n",
    "    with open(NomFichier, 'r') as fs:\n",
    "        ligne = fs.readline()\n",
    "        dicoL = loads(ligne) # On charge le dictionnaire contenu à la ligne\n",
    "        tweet = Tweet(dicoL[\"TweetText\"]) # On converti le tweet ('str') en 'Tweet'\n",
    "        dicoL[\"TweetText\"] = tweet \n",
    "        dicoL[\"@\"] = tweet.Arobases # On ajoute au dictionnnaire de la ligne la liste des '@' du tweet\n",
    "        dicoL[\"#\"] = tweet.Hashtags\n",
    "        dicoL[\"Sentiment\"] = tweet.Sentiment\n",
    "        DFF = DataFrame([dicoL])   # On initialise le DatFrame qui va stocker en local les données de la base\n",
    "        indice = 1  #Initialisation du compteur de ligne\n",
    "\n",
    "        for ligne in fs:\n",
    "            dicoL = loads(ligne)\n",
    "            tweet = Tweet(dicoL[\"TweetText\"])\n",
    "            dicoL[\"TweetText\"] = tweet\n",
    "            dicoL[\"@\"] = tweet.Arobases\n",
    "            dicoL[\"#\"] = tweet.Hashtags\n",
    "            dicoL[\"Sentiment\"] = tweet.Sentiment\n",
    "            DF2 = DataFrame([dicoL])\n",
    "            DFF = concat([DFF,DF2])\n",
    "            indice +=1   \n",
    "            \n",
    "    DFF.index = list(i for i in range(0,indice)) # On modifie l'index des lignes en s'appuyant sur la variable \"indice\" pour plus de praticité               \n",
    "    return DFF\n",
    "\n",
    "fichier = \"aitweets.json\"\n",
    "DFP = RecupDonneesP(fichier)   # DFP correspond au DataFrame principal, dont les colonnes sont 'id','TweetText', etc\n",
    "DFP"
   ]
  },
  {
   "cell_type": "markdown",
   "metadata": {},
   "source": [
    "# Fusion du DataFrame principal **DFP** et du DataFrame des Topics **DFT**"
   ]
  },
  {
   "cell_type": "code",
   "execution_count": 8,
   "metadata": {},
   "outputs": [],
   "source": [
    "from pandas import concat\n",
    "DFP = concat([DFP, DFT], axis=1)"
   ]
  },
  {
   "cell_type": "markdown",
   "metadata": {},
   "source": [
    "# Dictionnaire des Hashtags ('#')"
   ]
  },
  {
   "cell_type": "code",
   "execution_count": 9,
   "metadata": {},
   "outputs": [],
   "source": [
    "def DicoHashtags(DF):   # Entrée : DataFrame (la colonne des tweets)\n",
    "    # Stockage des Hashtags et de leur nombre d'occurrence dans un dictionnaire\n",
    "    DicoH = {}\n",
    "    Taille = DF.shape  # Tuple contenant (le nombre de ligne, le nombre de colonnes)\n",
    "\n",
    "    for i in range(Taille[0]):\n",
    "        ListeHashtags = DF.iloc[i]\n",
    "\n",
    "        for h in ListeHashtags:\n",
    "            if h in DicoH:\n",
    "                nombre = DicoH[h]\n",
    "                nombre +=1\n",
    "                DicoH[h] = nombre\n",
    "            else:\n",
    "                DicoH[h] = 1\n",
    "                \n",
    "    del DicoH['#']    # Il y a 33 # incomplets dans la base de données, ils sont pris en compte par la fonction, on prend donc le soin de suprimer cette clé du dico           \n",
    "    return DicoH      # Renvoie un Dictionnaire contenant tous les Hashtags en clé et le nombre de fois qu'ils sont tweeté en valeur\n",
    "\n",
    "DicoH = DicoHashtags(DFP[\"#\"])"
   ]
  },
  {
   "cell_type": "markdown",
   "metadata": {},
   "source": [
    "# Dictionnaire des Arobases @"
   ]
  },
  {
   "cell_type": "code",
   "execution_count": 10,
   "metadata": {},
   "outputs": [],
   "source": [
    "def DicoArobases(DF):   # Entrée : DataFrame (la colonne des tweets)\n",
    "    # Stockage des Arobases et de leur nombre d'occurrence dans un dictionnaire\n",
    "    DicoA = {}\n",
    "    Taille = DF.shape  # Tuple contenant (le nombre de ligne, le nombre de colonnes)\n",
    "    \n",
    "    for i in range(Taille[0]):\n",
    "        ListeArobases = DF.iloc[i]\n",
    "        \n",
    "        for a in ListeArobases:\n",
    "            if a in DicoA:\n",
    "                nombre = DicoA[a]\n",
    "                nombre +=1\n",
    "                DicoA[a] = nombre\n",
    "            else:\n",
    "                DicoA[a] = 1 \n",
    "\n",
    "    del DicoA['@']               \n",
    "    return DicoA      # Renvoie un Dictionnaire contenant tous les Hashtags en clé et le nombre de fois qu'ils sont tweeté en valeur\n",
    "\n",
    "DicoA = DicoArobases(DFP[\"@\"])"
   ]
  },
  {
   "cell_type": "markdown",
   "metadata": {},
   "source": [
    "# Dictionnaire des Topics"
   ]
  },
  {
   "cell_type": "code",
   "execution_count": 11,
   "metadata": {},
   "outputs": [],
   "source": [
    "def DicoTopics(DF):   # Entrée : DataFrame (la colonne des tweets)\n",
    "    # Stockage des Arobases et de leur nombre d'occurrence dans un dictionnaire\n",
    "    DicoT = {}\n",
    "    Taille = DF.shape  # Tuple contenant (le nombre de ligne, le nombre de colonnes)\n",
    "    \n",
    "    for i in range(Taille[0]):\n",
    "        ListeTopics = DF.iloc[i]\n",
    "        \n",
    "        for t in ListeTopics:\n",
    "            if t in DicoT:\n",
    "                nombre = DicoT[t]\n",
    "                nombre +=1\n",
    "                DicoT[t] = nombre\n",
    "            else:\n",
    "                DicoT[t] = 1 \n",
    "    \n",
    "    del DicoT[\"__\"]\n",
    "    return DicoT      # Renvoie un Dictionnaire contenant tous les Hashtags en clé et le nombre de fois qu'ils sont tweeté en valeur\n",
    "\n",
    "DicoT = DicoTopics(DFP[\"Topics\"])"
   ]
  },
  {
   "cell_type": "markdown",
   "metadata": {},
   "source": [
    "# Utilisateurs"
   ]
  },
  {
   "cell_type": "markdown",
   "metadata": {},
   "source": [
    "L'enjeux est ici de compléter notre base de données qui est incomplète. En effet notre base de données comporte pour chaque tweet un champ **ID** mais aucun \"Pseudo\" ou \"Nom d'Utilisateur\".\n",
    "C'est pourquoi nous allons ajouter à notre **DataFrame** principal ce nouveau champ \"Utilisateurs\".\n",
    "\n",
    "La création d'Utilisateurs est essentielle au bon déroulement de certaines opérations d'analyses, notamment pour \"Les utilisateurs mentionnés par un utilisateur spécifique\". Il est donc impératif que tous les utilisateurs mentionnés dans les tweets soient présent au sein de la base de données, donc dans le champ \"**Utilisateurs**\" du DataFrame **DFP**. Mais il y a moins d'utilisateurs mentionnés que de tweets dans la base de données, c'est pourquoi nous allons compléter la base par des Nom d'Utilisateurs générés aléatoirement.\n",
    "\n",
    "En outre le champ utilisateur sera constitué avec les @ mentionnés au seins de la base de données ainsi que des @ créés de toute pièce et parfaitement unique."
   ]
  },
  {
   "cell_type": "code",
   "execution_count": 12,
   "metadata": {},
   "outputs": [
    {
     "data": {
      "text/html": [
       "<div>\n",
       "<style scoped>\n",
       "    .dataframe tbody tr th:only-of-type {\n",
       "        vertical-align: middle;\n",
       "    }\n",
       "\n",
       "    .dataframe tbody tr th {\n",
       "        vertical-align: top;\n",
       "    }\n",
       "\n",
       "    .dataframe thead th {\n",
       "        text-align: right;\n",
       "    }\n",
       "</style>\n",
       "<table border=\"1\" class=\"dataframe\">\n",
       "  <thead>\n",
       "    <tr style=\"text-align: right;\">\n",
       "      <th></th>\n",
       "      <th>Utilisateurs</th>\n",
       "      <th>id</th>\n",
       "      <th>AuthorLocation</th>\n",
       "      <th>CreatedAt</th>\n",
       "      <th>RetweetCount</th>\n",
       "      <th>TweetLanguage</th>\n",
       "      <th>TweetText</th>\n",
       "      <th>@</th>\n",
       "      <th>#</th>\n",
       "      <th>Sentiment</th>\n",
       "      <th>Topics</th>\n",
       "    </tr>\n",
       "  </thead>\n",
       "  <tbody>\n",
       "    <tr>\n",
       "      <th>0</th>\n",
       "      <td>@TAMU</td>\n",
       "      <td>1415291904850153474</td>\n",
       "      <td></td>\n",
       "      <td>2021-07-14T12:47:39Z</td>\n",
       "      <td>0</td>\n",
       "      <td>en</td>\n",
       "      <td>@____bruvteresa_ According to research, NASA c...</td>\n",
       "      <td>[@____bruvteresa_]</td>\n",
       "      <td>[]</td>\n",
       "      <td>Positif</td>\n",
       "      <td>[siggraph, __, sigkids, schwartz, computer, un...</td>\n",
       "    </tr>\n",
       "    <tr>\n",
       "      <th>1</th>\n",
       "      <td>@inte</td>\n",
       "      <td>1415291947560828933</td>\n",
       "      <td>Mysore  and  BERLIN</td>\n",
       "      <td>2021-07-14T12:47:49Z</td>\n",
       "      <td>2</td>\n",
       "      <td>en</td>\n",
       "      <td>RT @HDataSystems: Artificial Intelligence and ...</td>\n",
       "      <td>[@HDataSystems]</td>\n",
       "      <td>[#hdatasystems, #Artificia]</td>\n",
       "      <td>Negatif</td>\n",
       "      <td>[ide, drive, controller, devices, hd, bit, tk,...</td>\n",
       "    </tr>\n",
       "    <tr>\n",
       "      <th>2</th>\n",
       "      <td>@ForbesBR</td>\n",
       "      <td>1415291877897605120</td>\n",
       "      <td></td>\n",
       "      <td>2021-07-14T12:47:33Z</td>\n",
       "      <td>246</td>\n",
       "      <td>en</td>\n",
       "      <td>RT @adgpi: Army Technology Board conducted the...</td>\n",
       "      <td>[@adgpi]</td>\n",
       "      <td>[]</td>\n",
       "      <td>Negatif</td>\n",
       "      <td>[siggraph, __, sigkids, schwartz, computer, un...</td>\n",
       "    </tr>\n",
       "    <tr>\n",
       "      <th>3</th>\n",
       "      <td>@forbes</td>\n",
       "      <td>1415291886860967940</td>\n",
       "      <td></td>\n",
       "      <td>2021-07-14T12:47:35Z</td>\n",
       "      <td>1</td>\n",
       "      <td>en</td>\n",
       "      <td>RT @pacorjo: According to a recent survey, the...</td>\n",
       "      <td>[@pacorjo]</td>\n",
       "      <td>[]</td>\n",
       "      <td>Positif</td>\n",
       "      <td>[health, private, care, canadian, canada, hmo,...</td>\n",
       "    </tr>\n",
       "    <tr>\n",
       "      <th>4</th>\n",
       "      <td>@nerdgirlz</td>\n",
       "      <td>1415291968700264450</td>\n",
       "      <td>Internet</td>\n",
       "      <td>2021-07-14T12:47:54Z</td>\n",
       "      <td>20</td>\n",
       "      <td>en</td>\n",
       "      <td>RT @HarbRimah: Making AI Sing https://t.co/FJo...</td>\n",
       "      <td>[@HarbRimah]</td>\n",
       "      <td>[#MachineLearning, #DataScience, #Python, #AI,...</td>\n",
       "      <td>Neutre</td>\n",
       "      <td>[siggraph, __, sigkids, schwartz, computer, un...</td>\n",
       "    </tr>\n",
       "    <tr>\n",
       "      <th>...</th>\n",
       "      <td>...</td>\n",
       "      <td>...</td>\n",
       "      <td>...</td>\n",
       "      <td>...</td>\n",
       "      <td>...</td>\n",
       "      <td>...</td>\n",
       "      <td>...</td>\n",
       "      <td>...</td>\n",
       "      <td>...</td>\n",
       "      <td>...</td>\n",
       "      <td>...</td>\n",
       "    </tr>\n",
       "    <tr>\n",
       "      <th>1703</th>\n",
       "      <td>@Zzgw5</td>\n",
       "      <td>1421408743770791938</td>\n",
       "      <td>Liverpool, England</td>\n",
       "      <td>2021-07-31T09:53:47Z</td>\n",
       "      <td>1</td>\n",
       "      <td>en</td>\n",
       "      <td>RT @innomaticshyd: Top 10 Real world Artificia...</td>\n",
       "      <td>[@innomaticshyd]</td>\n",
       "      <td>[]</td>\n",
       "      <td>Positif</td>\n",
       "      <td>[tobacco, cesarean, smokeless, malaria, coli, ...</td>\n",
       "    </tr>\n",
       "    <tr>\n",
       "      <th>1704</th>\n",
       "      <td>@Ywmq7</td>\n",
       "      <td>1421424066305605634</td>\n",
       "      <td></td>\n",
       "      <td>2021-07-31T10:54:40Z</td>\n",
       "      <td>0</td>\n",
       "      <td>en</td>\n",
       "      <td>Iowa State part of U.S. National Science Found...</td>\n",
       "      <td>[]</td>\n",
       "      <td>[#ArtificialIntelligence, #IIoT, #GenerativeAd...</td>\n",
       "      <td>Positif</td>\n",
       "      <td>[siggraph, __, sigkids, schwartz, computer, un...</td>\n",
       "    </tr>\n",
       "    <tr>\n",
       "      <th>1705</th>\n",
       "      <td>@Rnid3</td>\n",
       "      <td>1421423882427371521</td>\n",
       "      <td>127.0.0.1</td>\n",
       "      <td>2021-07-31T10:53:57Z</td>\n",
       "      <td>17</td>\n",
       "      <td>en</td>\n",
       "      <td>RT @intellimetri: Human Assisted #ArtificialIn...</td>\n",
       "      <td>[@intellimetri, @nerdgirlz, @forbes, @ForbesBR...</td>\n",
       "      <td>[#ArtificialIntelligence, #AI]</td>\n",
       "      <td>Neutre</td>\n",
       "      <td>[hackers, ethic, computer, thief, who, person,...</td>\n",
       "    </tr>\n",
       "    <tr>\n",
       "      <th>1706</th>\n",
       "      <td>@Zafq1</td>\n",
       "      <td>1421423971858149377</td>\n",
       "      <td>Singapore, Singapore</td>\n",
       "      <td>2021-07-31T10:54:18Z</td>\n",
       "      <td>12</td>\n",
       "      <td>en</td>\n",
       "      <td>RT @IainLJBrown: Artificial Intelligence learn...</td>\n",
       "      <td>[@IainLJBrown]</td>\n",
       "      <td>[#Artificia]</td>\n",
       "      <td>Positif</td>\n",
       "      <td>[objective, scientific, is, theory, methodolog...</td>\n",
       "    </tr>\n",
       "    <tr>\n",
       "      <th>1707</th>\n",
       "      <td>@Omys8</td>\n",
       "      <td>1421423964845395969</td>\n",
       "      <td>Torremolinos, España</td>\n",
       "      <td>2021-07-31T10:54:16Z</td>\n",
       "      <td>17</td>\n",
       "      <td>en</td>\n",
       "      <td>RT @marcusborba: Artificial Intelligence May F...</td>\n",
       "      <td>[@marcusborba, @TAMU]</td>\n",
       "      <td>[#Healthcare, #A]</td>\n",
       "      <td>Negatif</td>\n",
       "      <td>[epilepsy, seizures, corn, sp, she, cereal, su...</td>\n",
       "    </tr>\n",
       "  </tbody>\n",
       "</table>\n",
       "<p>1708 rows × 11 columns</p>\n",
       "</div>"
      ],
      "text/plain": [
       "     Utilisateurs                   id        AuthorLocation  \\\n",
       "0           @TAMU  1415291904850153474                         \n",
       "1           @inte  1415291947560828933   Mysore  and  BERLIN   \n",
       "2       @ForbesBR  1415291877897605120                         \n",
       "3         @forbes  1415291886860967940                         \n",
       "4      @nerdgirlz  1415291968700264450              Internet   \n",
       "...           ...                  ...                   ...   \n",
       "1703       @Zzgw5  1421408743770791938    Liverpool, England   \n",
       "1704       @Ywmq7  1421424066305605634                         \n",
       "1705       @Rnid3  1421423882427371521             127.0.0.1   \n",
       "1706       @Zafq1  1421423971858149377  Singapore, Singapore   \n",
       "1707       @Omys8  1421423964845395969  Torremolinos, España   \n",
       "\n",
       "                 CreatedAt RetweetCount TweetLanguage  \\\n",
       "0     2021-07-14T12:47:39Z            0            en   \n",
       "1     2021-07-14T12:47:49Z            2            en   \n",
       "2     2021-07-14T12:47:33Z          246            en   \n",
       "3     2021-07-14T12:47:35Z            1            en   \n",
       "4     2021-07-14T12:47:54Z           20            en   \n",
       "...                    ...          ...           ...   \n",
       "1703  2021-07-31T09:53:47Z            1            en   \n",
       "1704  2021-07-31T10:54:40Z            0            en   \n",
       "1705  2021-07-31T10:53:57Z           17            en   \n",
       "1706  2021-07-31T10:54:18Z           12            en   \n",
       "1707  2021-07-31T10:54:16Z           17            en   \n",
       "\n",
       "                                              TweetText  \\\n",
       "0     @____bruvteresa_ According to research, NASA c...   \n",
       "1     RT @HDataSystems: Artificial Intelligence and ...   \n",
       "2     RT @adgpi: Army Technology Board conducted the...   \n",
       "3     RT @pacorjo: According to a recent survey, the...   \n",
       "4     RT @HarbRimah: Making AI Sing https://t.co/FJo...   \n",
       "...                                                 ...   \n",
       "1703  RT @innomaticshyd: Top 10 Real world Artificia...   \n",
       "1704  Iowa State part of U.S. National Science Found...   \n",
       "1705  RT @intellimetri: Human Assisted #ArtificialIn...   \n",
       "1706  RT @IainLJBrown: Artificial Intelligence learn...   \n",
       "1707  RT @marcusborba: Artificial Intelligence May F...   \n",
       "\n",
       "                                                      @  \\\n",
       "0                                    [@____bruvteresa_]   \n",
       "1                                       [@HDataSystems]   \n",
       "2                                              [@adgpi]   \n",
       "3                                            [@pacorjo]   \n",
       "4                                          [@HarbRimah]   \n",
       "...                                                 ...   \n",
       "1703                                   [@innomaticshyd]   \n",
       "1704                                                 []   \n",
       "1705  [@intellimetri, @nerdgirlz, @forbes, @ForbesBR...   \n",
       "1706                                     [@IainLJBrown]   \n",
       "1707                              [@marcusborba, @TAMU]   \n",
       "\n",
       "                                                      # Sentiment  \\\n",
       "0                                                    []   Positif   \n",
       "1                           [#hdatasystems, #Artificia]   Negatif   \n",
       "2                                                    []   Negatif   \n",
       "3                                                    []   Positif   \n",
       "4     [#MachineLearning, #DataScience, #Python, #AI,...    Neutre   \n",
       "...                                                 ...       ...   \n",
       "1703                                                 []   Positif   \n",
       "1704  [#ArtificialIntelligence, #IIoT, #GenerativeAd...   Positif   \n",
       "1705                     [#ArtificialIntelligence, #AI]    Neutre   \n",
       "1706                                       [#Artificia]   Positif   \n",
       "1707                                  [#Healthcare, #A]   Negatif   \n",
       "\n",
       "                                                 Topics  \n",
       "0     [siggraph, __, sigkids, schwartz, computer, un...  \n",
       "1     [ide, drive, controller, devices, hd, bit, tk,...  \n",
       "2     [siggraph, __, sigkids, schwartz, computer, un...  \n",
       "3     [health, private, care, canadian, canada, hmo,...  \n",
       "4     [siggraph, __, sigkids, schwartz, computer, un...  \n",
       "...                                                 ...  \n",
       "1703  [tobacco, cesarean, smokeless, malaria, coli, ...  \n",
       "1704  [siggraph, __, sigkids, schwartz, computer, un...  \n",
       "1705  [hackers, ethic, computer, thief, who, person,...  \n",
       "1706  [objective, scientific, is, theory, methodolog...  \n",
       "1707  [epilepsy, seizures, corn, sp, she, cereal, su...  \n",
       "\n",
       "[1708 rows x 11 columns]"
      ]
     },
     "execution_count": 12,
     "metadata": {},
     "output_type": "execute_result"
    }
   ],
   "source": [
    "from pandas import DataFrame\n",
    "def CreationUtilisateurs(ListeD, nb=int, DFP=DataFrame):  # Entrée : Liste Utilisateurs mentionnés ('dict_keys'), nombre ('int'), DataFrame principal (DFP)\n",
    "    # Ajout d'un nouveau champ \"Utilisateurs\" au DataFrame principal\n",
    "    from random import randint\n",
    "    from pandas import DataFrame\n",
    "    from pandas import concat\n",
    "\n",
    "    ListeUtilisateurs = list(ListeD)\n",
    "    ListeUtilisateurs.reverse()    # On inverse la liste des utilisateurs mentionnés pour éviter qu'un utilisateur se mentitonne lui même\n",
    "    for i in range(nb):\n",
    "        Lettre1 = chr(randint(65, 90))   # Intervalle Unicode des lettres Majuscules de l'alphabet latin\n",
    "        Lettre2 = chr(randint(97, 122))  \n",
    "        Lettre3 = chr(randint(97, 122))  # Intervalle Unicode des lettres Minuscules de l'alphabet latin\n",
    "        Lettre4 = chr(randint(97, 122))\n",
    "        Chiffre1 = chr(randint(48, 57))  # Intervalle Unicode des chiffres \n",
    "        Utilisateur = '@' + Lettre1 + Lettre2 + Lettre3 + Lettre4 + Chiffre1  # On ajoute '@' en début de Nom d'utilisateur pour s'assurer de l'homogéité des données.\n",
    "        ListeUtilisateurs.append(Utilisateur)\n",
    "        \n",
    "    DFUtilisateurs = DataFrame({\"Utilisateurs\": ListeUtilisateurs})\n",
    "    DFP = concat([DFUtilisateurs, DFP], axis=1)\n",
    "    return DFP  # Sortie : DataFrame (le DataFrame principal modifié, contenant le nouveau champ \"UTilisateurs\")\n",
    "   \n",
    "DFP = CreationUtilisateurs(DicoA.keys(), (1708-len(DicoA)), DFP)\n",
    "DFP"
   ]
  },
  {
   "cell_type": "markdown",
   "metadata": {},
   "source": [
    "# Utilisation de la classe ***Inpoda***\n",
    "Maintenant que les trois variables ***DicoA***, ***DicoH***, ***DicoT*** et ***DFP*** ont été complétées on peut les transformer en objet **'Inpoda'** pour réaliser les opérations d'analyses."
   ]
  },
  {
   "cell_type": "code",
   "execution_count": 13,
   "metadata": {},
   "outputs": [],
   "source": [
    "DFP = Inpoda(DF= DFP)\n",
    "DicoH = Inpoda(Dico= DicoH)\n",
    "DicoA = Inpoda(Dico= DicoA)\n",
    "DicoT = Inpoda(Dico= DicoT)"
   ]
  },
  {
   "cell_type": "markdown",
   "metadata": {},
   "source": [
    "# Remarques : \n",
    "- Les variables ***DicoA***, ***DicoH*** et ***DFP*** sont maintenant des objets **'Inpoda'** mais on peut toujours accéder à leurs structures de données initiales respectivement à l'aide des attributs ```'.Dico'``` et ```'.DF'```.\n",
    "- Les fonctionnalitées d'analyses (TopK Hashtags, etc) demandées sont accessibles pour tous les objets **'Inpoda'**. (Des exemples seront mit ci-dessous dans des cellules python sous forme de commentaires pour vous donner un aperçu des possibilitées) "
   ]
  },
  {
   "cell_type": "markdown",
   "metadata": {},
   "source": [
    "# Fonctionnalitées Suplémentaires :"
   ]
  },
  {
   "cell_type": "markdown",
   "metadata": {},
   "source": [
    "- Actualisation manuelle des données "
   ]
  },
  {
   "cell_type": "code",
   "execution_count": 14,
   "metadata": {},
   "outputs": [],
   "source": [
    "def Refresh():\n",
    "    # Réactualisation de la Zone d'Atterrissage\n",
    "    fichier = \"aitweets.json\"\n",
    "    ZoneAtterrissage(fichier)\n",
    "\n",
    "Refresh()"
   ]
  },
  {
   "cell_type": "markdown",
   "metadata": {},
   "source": [
    "# Les TOP-K \n",
    "#### Accédez au Top décroissant avec K>0\n",
    "#### Et au Top croissant avec K<0"
   ]
  },
  {
   "cell_type": "markdown",
   "metadata": {},
   "source": [
    "- Top K hashtags"
   ]
  },
  {
   "cell_type": "code",
   "execution_count": 15,
   "metadata": {},
   "outputs": [
    {
     "data": {
      "image/png": "[encoded data removed]",
      "text/plain": [
       "<Figure size 640x480 with 1 Axes>"
      ]
     },
     "metadata": {},
     "output_type": "display_data"
    }
   ],
   "source": [
    "Inpoda(DF=DicoH.TopKH(5)).Histogramme()\n",
    "\n",
    "# DicoH.TopKH(5) -> à partir de la variable \"DicoH\" de type 'Inpoda' on élabore le DataFrame contenant les # et leur nombre d'occurences\n",
    "# Inpoda(DF=DicoH.TopKH(5)) -> on transforme notre 'DataFrame' en 'Inpoda'\n",
    "# .Histogramme() -> on utilise cet attribut de la classe 'Inpoda' pour afficher l'Histogramme"
   ]
  },
  {
   "cell_type": "code",
   "execution_count": 16,
   "metadata": {},
   "outputs": [],
   "source": [
    "# Autre Exemple :\n",
    "#DicoH.TopKH(5) # Affichage du 'DataFrame'"
   ]
  },
  {
   "cell_type": "code",
   "execution_count": 17,
   "metadata": {},
   "outputs": [],
   "source": [
    "# Autre Exemple :\n",
    "#DFP.TopKH(K=5,DicoH=DicoH.Dico)"
   ]
  },
  {
   "cell_type": "markdown",
   "metadata": {},
   "source": [
    "- Top K Utilisateurs"
   ]
  },
  {
   "cell_type": "code",
   "execution_count": 18,
   "metadata": {},
   "outputs": [
    {
     "data": {
      "image/png": "[encoded data removed]",
      "text/plain": [
       "<Figure size 640x480 with 1 Axes>"
      ]
     },
     "metadata": {},
     "output_type": "display_data"
    }
   ],
   "source": [
    "Inpoda(DF=DFP.TopKU(5)).Histogramme()"
   ]
  },
  {
   "cell_type": "code",
   "execution_count": 19,
   "metadata": {},
   "outputs": [],
   "source": [
    "# Autre exemple :\n",
    "#Inpoda(DF=(DicoA.TopKU(-8, DFP.DF))).Histogramme()"
   ]
  },
  {
   "cell_type": "markdown",
   "metadata": {},
   "source": [
    "- Top K utilisateurs mentionnés"
   ]
  },
  {
   "cell_type": "code",
   "execution_count": 20,
   "metadata": {},
   "outputs": [
    {
     "data": {
      "image/png": "[encoded data removed]",
      "text/plain": [
       "<Figure size 640x480 with 1 Axes>"
      ]
     },
     "metadata": {},
     "output_type": "display_data"
    }
   ],
   "source": [
    "Inpoda(DF=DicoA.TopKA(5)).Histogramme()"
   ]
  },
  {
   "cell_type": "code",
   "execution_count": 21,
   "metadata": {},
   "outputs": [],
   "source": [
    "# Autre Exemple :\n",
    "#Inpoda(DF=DFP.TopKA(K=-6,DicoA=DicoA.Dico)).Histogramme()"
   ]
  },
  {
   "cell_type": "markdown",
   "metadata": {},
   "source": [
    "- Top K Topics"
   ]
  },
  {
   "cell_type": "code",
   "execution_count": 22,
   "metadata": {},
   "outputs": [
    {
     "data": {
      "image/png": "[encoded data removed]",
      "text/plain": [
       "<Figure size 640x480 with 1 Axes>"
      ]
     },
     "metadata": {},
     "output_type": "display_data"
    }
   ],
   "source": [
    "Inpoda(DF=DicoT.TopKT(5)).Histogramme()"
   ]
  },
  {
   "cell_type": "markdown",
   "metadata": {},
   "source": [
    "# Le Nombre de publication par Utilisateur/Hashtag"
   ]
  },
  {
   "cell_type": "markdown",
   "metadata": {},
   "source": [
    "- Le nombre de publications par utilisateur"
   ]
  },
  {
   "cell_type": "code",
   "execution_count": 23,
   "metadata": {},
   "outputs": [
    {
     "data": {
      "text/plain": [
       "('@adgpi', 27)"
      ]
     },
     "execution_count": 23,
     "metadata": {},
     "output_type": "execute_result"
    }
   ],
   "source": [
    "DFP.NbPostUtilisateur(Utilisateur=\"@adgpi\")"
   ]
  },
  {
   "cell_type": "markdown",
   "metadata": {},
   "source": [
    "- Le nombre de publications par hashtag"
   ]
  },
  {
   "cell_type": "code",
   "execution_count": 24,
   "metadata": {},
   "outputs": [
    {
     "data": {
      "text/plain": [
       "('#AI', 204)"
      ]
     },
     "execution_count": 24,
     "metadata": {},
     "output_type": "execute_result"
    }
   ],
   "source": [
    "DicoH.NbPostHashtags(hashtag= '#AI')"
   ]
  },
  {
   "cell_type": "markdown",
   "metadata": {},
   "source": [
    "- Le nombre de publication par topic"
   ]
  },
  {
   "cell_type": "code",
   "execution_count": 25,
   "metadata": {},
   "outputs": [
    {
     "data": {
      "text/plain": [
       "('computer', 640)"
      ]
     },
     "execution_count": 25,
     "metadata": {},
     "output_type": "execute_result"
    }
   ],
   "source": [
    "DicoT.NbPostTopics(topic= 'computer')"
   ]
  },
  {
   "cell_type": "markdown",
   "metadata": {},
   "source": [
    "# Les dernières analyses demandées"
   ]
  },
  {
   "cell_type": "markdown",
   "metadata": {},
   "source": [
    "- L’ensemble de tweets d’un utilisateur spécifique"
   ]
  },
  {
   "cell_type": "code",
   "execution_count": 26,
   "metadata": {},
   "outputs": [
    {
     "data": {
      "text/html": [
       "<div>\n",
       "<style scoped>\n",
       "    .dataframe tbody tr th:only-of-type {\n",
       "        vertical-align: middle;\n",
       "    }\n",
       "\n",
       "    .dataframe tbody tr th {\n",
       "        vertical-align: top;\n",
       "    }\n",
       "\n",
       "    .dataframe thead th {\n",
       "        text-align: right;\n",
       "    }\n",
       "</style>\n",
       "<table border=\"1\" class=\"dataframe\">\n",
       "  <thead>\n",
       "    <tr style=\"text-align: right;\">\n",
       "      <th></th>\n",
       "      <th>Tweets postés par : @Gizchina</th>\n",
       "    </tr>\n",
       "  </thead>\n",
       "  <tbody>\n",
       "    <tr>\n",
       "      <th>0</th>\n",
       "      <td>OPPO releases its first 6G white paper. A syst...</td>\n",
       "    </tr>\n",
       "    <tr>\n",
       "      <th>1</th>\n",
       "      <td>RT @sfchronicle: “Intellectually, I know it’s ...</td>\n",
       "    </tr>\n",
       "  </tbody>\n",
       "</table>\n",
       "</div>"
      ],
      "text/plain": [
       "                       Tweets postés par : @Gizchina\n",
       "0  OPPO releases its first 6G white paper. A syst...\n",
       "1  RT @sfchronicle: “Intellectually, I know it’s ..."
      ]
     },
     "execution_count": 26,
     "metadata": {},
     "output_type": "execute_result"
    }
   ],
   "source": [
    "DFP.TweetsUtilisateur(Utilisateur=\"@Gizchina\")"
   ]
  },
  {
   "cell_type": "markdown",
   "metadata": {},
   "source": [
    "- L’ensemble de tweets mentionnant un utilisateur spécifique"
   ]
  },
  {
   "cell_type": "code",
   "execution_count": 27,
   "metadata": {},
   "outputs": [
    {
     "data": {
      "text/html": [
       "<div>\n",
       "<style scoped>\n",
       "    .dataframe tbody tr th:only-of-type {\n",
       "        vertical-align: middle;\n",
       "    }\n",
       "\n",
       "    .dataframe tbody tr th {\n",
       "        vertical-align: top;\n",
       "    }\n",
       "\n",
       "    .dataframe thead th {\n",
       "        text-align: right;\n",
       "    }\n",
       "</style>\n",
       "<table border=\"1\" class=\"dataframe\">\n",
       "  <thead>\n",
       "    <tr style=\"text-align: right;\">\n",
       "      <th></th>\n",
       "      <th>Tweets mentionnant : @intratio</th>\n",
       "    </tr>\n",
       "  </thead>\n",
       "  <tbody>\n",
       "    <tr>\n",
       "      <th>75</th>\n",
       "      <td>RT @intratio: $MDVL https://t.co/rso4WTkGcW Me...</td>\n",
       "    </tr>\n",
       "    <tr>\n",
       "      <th>400</th>\n",
       "      <td>RT @intratio: https://t.co/GGI5g1FRD3 Kinnate ...</td>\n",
       "    </tr>\n",
       "    <tr>\n",
       "      <th>843</th>\n",
       "      <td>RT @intratio: $CUE https://t.co/N3KHKWvbdp Cue...</td>\n",
       "    </tr>\n",
       "  </tbody>\n",
       "</table>\n",
       "</div>"
      ],
      "text/plain": [
       "                        Tweets mentionnant : @intratio\n",
       "75   RT @intratio: $MDVL https://t.co/rso4WTkGcW Me...\n",
       "400  RT @intratio: https://t.co/GGI5g1FRD3 Kinnate ...\n",
       "843  RT @intratio: $CUE https://t.co/N3KHKWvbdp Cue..."
      ]
     },
     "execution_count": 27,
     "metadata": {},
     "output_type": "execute_result"
    }
   ],
   "source": [
    "DFP.TweetsMentionUtilisateur(Utilisateur=\"@intratio\")"
   ]
  },
  {
   "cell_type": "markdown",
   "metadata": {},
   "source": [
    "- Les utilisateurs mentionnant un hashtag spécifique"
   ]
  },
  {
   "cell_type": "code",
   "execution_count": 28,
   "metadata": {},
   "outputs": [
    {
     "data": {
      "text/html": [
       "<div>\n",
       "<style scoped>\n",
       "    .dataframe tbody tr th:only-of-type {\n",
       "        vertical-align: middle;\n",
       "    }\n",
       "\n",
       "    .dataframe tbody tr th {\n",
       "        vertical-align: top;\n",
       "    }\n",
       "\n",
       "    .dataframe thead th {\n",
       "        text-align: right;\n",
       "    }\n",
       "</style>\n",
       "<table border=\"1\" class=\"dataframe\">\n",
       "  <thead>\n",
       "    <tr style=\"text-align: right;\">\n",
       "      <th></th>\n",
       "      <th>Utilisateurs</th>\n",
       "    </tr>\n",
       "  </thead>\n",
       "  <tbody>\n",
       "    <tr>\n",
       "      <th>4</th>\n",
       "      <td>@nerdgirlz</td>\n",
       "    </tr>\n",
       "    <tr>\n",
       "      <th>8</th>\n",
       "      <td>@arXiv_Daily</td>\n",
       "    </tr>\n",
       "    <tr>\n",
       "      <th>10</th>\n",
       "      <td>@DecisionsSmart</td>\n",
       "    </tr>\n",
       "    <tr>\n",
       "      <th>42</th>\n",
       "      <td>@frontiersin</td>\n",
       "    </tr>\n",
       "    <tr>\n",
       "      <th>58</th>\n",
       "      <td>@TACHOUHONER</td>\n",
       "    </tr>\n",
       "    <tr>\n",
       "      <th>...</th>\n",
       "      <td>...</td>\n",
       "    </tr>\n",
       "    <tr>\n",
       "      <th>1679</th>\n",
       "      <td>@Jpek9</td>\n",
       "    </tr>\n",
       "    <tr>\n",
       "      <th>1681</th>\n",
       "      <td>@Iwap4</td>\n",
       "    </tr>\n",
       "    <tr>\n",
       "      <th>1684</th>\n",
       "      <td>@Gojy7</td>\n",
       "    </tr>\n",
       "    <tr>\n",
       "      <th>1699</th>\n",
       "      <td>@Acde6</td>\n",
       "    </tr>\n",
       "    <tr>\n",
       "      <th>1705</th>\n",
       "      <td>@Rnid3</td>\n",
       "    </tr>\n",
       "  </tbody>\n",
       "</table>\n",
       "<p>200 rows × 1 columns</p>\n",
       "</div>"
      ],
      "text/plain": [
       "         Utilisateurs\n",
       "4          @nerdgirlz\n",
       "8        @arXiv_Daily\n",
       "10    @DecisionsSmart\n",
       "42       @frontiersin\n",
       "58       @TACHOUHONER\n",
       "...               ...\n",
       "1679           @Jpek9\n",
       "1681           @Iwap4\n",
       "1684           @Gojy7\n",
       "1699           @Acde6\n",
       "1705           @Rnid3\n",
       "\n",
       "[200 rows x 1 columns]"
      ]
     },
     "execution_count": 28,
     "metadata": {},
     "output_type": "execute_result"
    }
   ],
   "source": [
    "DFP.UtilisateurMentionHashtag(Hashtag='#AI')"
   ]
  },
  {
   "cell_type": "markdown",
   "metadata": {},
   "source": [
    "- Les utilisateurs mentionnés par un utilisateur spécifique"
   ]
  },
  {
   "cell_type": "code",
   "execution_count": 29,
   "metadata": {},
   "outputs": [
    {
     "data": {
      "text/html": [
       "<div>\n",
       "<style scoped>\n",
       "    .dataframe tbody tr th:only-of-type {\n",
       "        vertical-align: middle;\n",
       "    }\n",
       "\n",
       "    .dataframe tbody tr th {\n",
       "        vertical-align: top;\n",
       "    }\n",
       "\n",
       "    .dataframe thead th {\n",
       "        text-align: right;\n",
       "    }\n",
       "</style>\n",
       "<table border=\"1\" class=\"dataframe\">\n",
       "  <thead>\n",
       "    <tr style=\"text-align: right;\">\n",
       "      <th></th>\n",
       "      <th>@xoce_q a mentionné :</th>\n",
       "    </tr>\n",
       "  </thead>\n",
       "  <tbody>\n",
       "    <tr>\n",
       "      <th>0</th>\n",
       "      <td>@codewithibrahim</td>\n",
       "    </tr>\n",
       "  </tbody>\n",
       "</table>\n",
       "</div>"
      ],
      "text/plain": [
       "  @xoce_q a mentionné :\n",
       "0      @codewithibrahim"
      ]
     },
     "execution_count": 29,
     "metadata": {},
     "output_type": "execute_result"
    }
   ],
   "source": [
    "DFP.UtilisateurMentionUtilsateur(Utilisateur=\"@xoce_q\")"
   ]
  },
  {
   "cell_type": "markdown",
   "metadata": {},
   "source": [
    "# Interface Graphique de Inpoda"
   ]
  },
  {
   "cell_type": "code",
   "execution_count": 30,
   "metadata": {},
   "outputs": [
    {
     "name": "stdout",
     "output_type": "stream",
     "text": [
      "Running on local URL:  http://127.0.0.1:7860\n",
      "\n",
      "To create a public link, set `share=True` in `launch()`.\n"
     ]
    },
    {
     "data": {
      "text/html": [
       "<div><iframe src=\"http://127.0.0.1:7860/\" width=\"100%\" height=\"500\" allow=\"autoplay; camera; microphone; clipboard-read; clipboard-write;\" frameborder=\"0\" allowfullscreen></iframe></div>"
      ],
      "text/plain": [
       "<IPython.core.display.HTML object>"
      ]
     },
     "metadata": {},
     "output_type": "display_data"
    },
    {
     "name": "stdout",
     "output_type": "stream",
     "text": [
      "Running on local URL:  http://127.0.0.1:7861\n",
      "\n",
      "To create a public link, set `share=True` in `launch()`.\n"
     ]
    },
    {
     "data": {
      "text/html": [
       "<div><iframe src=\"http://127.0.0.1:7861/\" width=\"100%\" height=\"500\" allow=\"autoplay; camera; microphone; clipboard-read; clipboard-write;\" frameborder=\"0\" allowfullscreen></iframe></div>"
      ],
      "text/plain": [
       "<IPython.core.display.HTML object>"
      ]
     },
     "metadata": {},
     "output_type": "display_data"
    }
   ],
   "source": [
    "import os\n",
    "import gramex\n",
    "import gradio as gr\n",
    "\n",
    "#Creation d'une liste contenant les informations du dataframe \"DFP\", pour pouvoir afficher les tweets par la suite\n",
    "liste_data = [f\"{tweet}\\n\\n------------------------ infos ------------------------\\n\"\n",
    "              f\"Utilisateur : {user}\\nHashtags : {tags}\\nUtilisateurs mentionnés : {mention}\\nSentiment : {feeling}\"\n",
    "              for tweet, user, tags, mention, feeling in zip(DFP.DF['TweetText'].tolist(), DFP.DF['Utilisateurs'].tolist(),\n",
    "                                                            DFP.DF['#'], DFP.DF['@'], DFP.DF['Sentiment'])]\n",
    "\n",
    "def afficher_liste():\n",
    "    # Retourner le contenu de la liste sous forme de texte\n",
    "    return liste_data\n",
    "\n",
    "def afficher_hashtags(entier):\n",
    "    global val\n",
    "    val = [f\"{hashtag}\" for hashtag in zip(DicoH.TopKH(K=entier)['#'].tolist())]\n",
    "    return \"Les \" + str(entier) + \" les plus fréquents sont les suivants : \" + val\n",
    "\n",
    "#Creation de 1708 textboxes pour y stocker les txeets\n",
    "composants_texte = [gr.Textbox() for _ in liste_data]\n",
    "\n",
    "\n",
    "# Ici 2 blocks différenst sont utilisés pour afficher les éléments de manière optimale et claire\n",
    "#Le premier block se nomme iface et sert uniquement à l'affichage des 1708 tweets\n",
    "with gr.Blocks() as iface:\n",
    "    gr.Markdown(value=\"# Analyse de tweets\")\n",
    "    for i, elt in enumerate(composants_texte):\n",
    "        txt = gr.Textbox(label=(\"Tweet n°\"+ str(i)), value=liste_data[i])\n",
    "\n",
    "#Le deuxième block se nomme analyse, est interactive et sert à afficher le résultats des fonctions dites secondaires c'est à dire les Top(K) et autres\n",
    "with gr.Blocks() as analyse:\n",
    "    gr.Markdown(value=\"# Analyses plus profondes sur la base de données entière\")\n",
    "\n",
    "    #Ici on fait plusieurs sous catégories, une pour chacune des fonctions\n",
    "\n",
    "    gr.Markdown(value=\"## Top K hastags\")\n",
    "    with gr.Row():\n",
    "        txt1 = gr.Textbox(label=\"Veuillez entrer un entier compris entre 1 et 1708\")\n",
    "        reponse1 = gr.Textbox(value =\"\", label =\"Réponse\")\n",
    "    btn1 = gr.Button(value = \"Submit\")\n",
    "    btn1.click(afficher_hashtags, inputs=[txt1], outputs=[reponse1])\n",
    "\n",
    "    gr.Markdown(value=\"## Top K @\")\n",
    "    with gr.Row():\n",
    "        txt2 = gr.Textbox(label=\"Veuillez entrer un entier compris entre 1 et 1708\")\n",
    "        reponse2 = gr.Textbox(value =\"\", label =\"Réponse\")\n",
    "    btn2 = gr.Button(value = \"Submit\")\n",
    "    btn2.click(afficher_hashtags, inputs=[txt2], outputs=[reponse2])\n",
    "\n",
    "    gr.Markdown(value=\"## Top K @ mentionnés\")\n",
    "    with gr.Row():\n",
    "        txt3 = gr.Textbox(label=\"Veuillez entrer un entier compris entre 1 et 1708\")\n",
    "        reponse3 = gr.Textbox(value =\"\", label =\"Réponse\")\n",
    "    btn2 = gr.Button(value = \"Submit\")\n",
    "    btn2.click(afficher_hashtags, inputs=[txt3], outputs=[reponse3])\n",
    "\n",
    "    gr.Markdown(value=\"## Nombre de publications par utilisateur\")\n",
    "    with gr.Row():\n",
    "        txt4 = gr.Textbox(label=\"Veuillez entrer un nom d'utilisateur sous la forme suivante : @name\")\n",
    "        reponse4 = gr.Textbox(value =\"\", label =\"Réponse\")\n",
    "    btn2 = gr.Button(value = \"Submit\")\n",
    "    btn2.click(afficher_hashtags, inputs=[txt4], outputs=[reponse4])\n",
    "\n",
    "    gr.Markdown(value=\"## Nombre de publications par hashtags\")\n",
    "    with gr.Row():\n",
    "        txt5 = gr.Textbox(label=\"Veuillez entrer un nom d'utilisateur sous la forme suivante : @name\")\n",
    "        reponse5 = gr.Textbox(value =\"\", label =\"Réponse\")\n",
    "    btn2 = gr.Button(value = \"Submit\")\n",
    "    btn2.click(afficher_hashtags, inputs=[txt5], outputs=[reponse5])\n",
    "\n",
    "    gr.Markdown(value=\"## Ensemble de tweets de l'utilisateur entré\")\n",
    "    with gr.Row():\n",
    "        txt6 = gr.Textbox(label=\"Veuillez entrer un nom d'utilisateur sous la forme suivante : @name\")\n",
    "        reponse6 = gr.Textbox(value =\"\", label =\"Réponse\")\n",
    "    btn2 = gr.Button(value = \"Submit\")\n",
    "    btn2.click(afficher_hashtags, inputs=[txt6], outputs=[reponse6])\n",
    "\n",
    "    gr.Markdown(value=\"## Ensemble de tweets mentionnant l'utilisateur entré\")\n",
    "    with gr.Row():\n",
    "        txt7 = gr.Textbox(label=\"Veuillez entrer un nom d'utilisateur sous la forme suivante : @name\")\n",
    "        reponse7 = gr.Textbox(value =\"\", label =\"Réponse\")\n",
    "    btn2 = gr.Button(value = \"Submit\")\n",
    "    btn2.click(afficher_hashtags, inputs=[txt7], outputs=[reponse7])\n",
    "\n",
    "    gr.Markdown(value=\"## Les utilisateurs mentionnant l'hashtag donné en entrée\")\n",
    "    with gr.Row():\n",
    "        txt8 = gr.Textbox(label=\"Veuillez entrer un nom d'utilisateur sous la forme suivante : @name\")\n",
    "        reponse8 = gr.Textbox(value =\"\", label =\"Réponse\")\n",
    "    btn2 = gr.Button(value = \"Submit\")\n",
    "    btn2.click(afficher_hashtags, inputs=[txt8], outputs=[reponse8])\n",
    "\n",
    "    gr.Markdown(value=\"## Les utilisateurs mentionnés par l'utilisateur donné en entrée\")\n",
    "    with gr.Row():\n",
    "        txt9 = gr.Textbox(label=\"Veuillez entrer un nom d'utilisateur sous la forme suivante : @name\")\n",
    "        reponse9 = gr.Textbox(value =\"\", label =\"Réponse\")\n",
    "    btn2 = gr.Button(value = \"Submit\")\n",
    "    btn2.click(afficher_hashtags, inputs=[txt9], outputs=[reponse9])\n",
    "\n",
    "# On lance tout l'affichage par cette commande\n",
    "if __name__ == \"__main__\":\n",
    "    iface.launch() and analyse.launch()"
   ]
  },
  {
   "cell_type": "markdown",
   "metadata": {},
   "source": [
    "# Ressources suplémentaires\n",
    "Des ressources suplémentaire sont disponible sur le Github dont le lien est ci dessous. Vous y trouverez notamment un diagramme détaillant le fonctionnement de **InPoDa** ainsi que le détail de la répartition des taches.\n",
    "\n",
    "**Github** : https://github.com/LugolBis/Projet-IN304 \n"
   ]
  },
  {
   "cell_type": "markdown",
   "metadata": {},
   "source": [
    "# *Références*\n",
    "- Chat-GPT\n",
    "- Documentation de ```Pandas``` : https://pandas.pydata.org/docs/user_guide/index.html\n",
    "- Documentation de ```Gradio``` : https://www.gradio.app/docs/interface"
   ]
  }
 ],
 "metadata": {
  "kernelspec": {
   "display_name": "base",
   "language": "python",
   "name": "python3"
  },
  "language_info": {
   "codemirror_mode": {
    "name": "ipython",
    "version": 3
   },
   "file_extension": ".py",
   "mimetype": "text/x-python",
   "name": "python",
   "nbconvert_exporter": "python",
   "pygments_lexer": "ipython3",
   "version": "3.10.9"
  }
 },
 "nbformat": 4,
 "nbformat_minor": 2
}
