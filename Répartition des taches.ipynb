{
 "cells": [
  {
   "cell_type": "markdown",
   "metadata": {},
   "source": [
    "# Répartition des taches"
   ]
  },
  {
   "cell_type": "markdown",
   "metadata": {},
   "source": [
    "### Loïc Desmares\n",
    "- Extraction des données de la base : élaboration des fonctions permetant la supression des caractère spéciaux, de l'écriture de la Zone d'atterrissage et du DataFrame principal stockant la base de donnée en local. \n",
    "- Analyse des données : élaboration des diverses fonctions d'analyse des tweet (hormis la fonction d'extraction du Sentiment).\n",
    "- Analyse des Topics : élaboration d'une fonction qui extrait la liste des Topics de chaque tweet à l'aide d'un modèle *BERTopic*.\n",
    "- Complément de la base de donnée : ajout d'Utilisateurs à chaque tweet de la base de données. \n",
    "- Fonctionnalités de InPoDa : utilisation des DataFrames et dictionnaires pour réaliser les fonctionnalitées demandées (Top-K #, etc).\n",
    "- Encapsulage des fonctions d'analyses dans deux classes : **'Tweet'** et **'Inpoda'**.\n",
    "- Rédaction de la documentation : rédaction de tous les commentaires, des notebook, du github et du diagramme de InPoDa.\n",
    "\n",
    "Mon rôle à donc été de coder le coeur du projet et la grande majorité des fonctions. J'ai donc codé les fonctions suivantes :\n",
    "- ```SuprCaracterSpe()```\n",
    "- class **Tweet** \\ hormis ```Sentiment()```\n",
    "- class **Inpoda** (la classe et toutes les fonctions qui sont encapsulées dedans)\n",
    "- ```ZoneAtterrissage()```\n",
    "- ```Topics()```\n",
    "- ```RecupDonneesP()```\n",
    "- ```DicoHashtags()```\n",
    "- ```DicoArobases()```\n",
    "- ```DicoTopics()```\n",
    "- ```CreationUtilisateurs()```\n",
    "- ```Refresh()```"
   ]
  },
  {
   "cell_type": "markdown",
   "metadata": {},
   "source": [
    "### Alexia Desfontaines\n",
    "- Testeuse : réalisation de tests sur la base de données et détection de nombreux \"cas spéciaux\" à prendre en compte. \n",
    "- Élaboration d'une fonction d'analyse de tweet : l'analyse des Sentiments à l'aide du module Textblob.\n",
    "- Tentatives d'analyse des Topics : élaborations de fonctions de traduction et d'extraction des Topics à l'aide de Spacy. Malheureusement pour des raisons technique de complexité en temps ces solutions n'ont pas été gardées.\n",
    "- Interface graphique : élaboration de l'interface graphique à l'aide de Gradio.\n",
    "\n",
    "Le rôle d'Alexia à donc été de détecter les cas non pris en compte au départ par certaines de mes fonctions, l'élaboration de deux fonctions pour extraire les Sentiments et les Topics d'un tweet, ainsi que la réalisation d'une interface graphique. Alexia à donc codé les fonctions suivantes :\n",
    "- ```Sentiment()```\n",
    "- ```afficher_liste()```\n",
    "- ```afficher_hashtags()```\n",
    "- **Interface Graphique** (ce n'est pas une fonction a proprement parlé mais le code de l'interface graphique)"
   ]
  }
 ],
 "metadata": {
  "language_info": {
   "name": "python"
  }
 },
 "nbformat": 4,
 "nbformat_minor": 2
}
